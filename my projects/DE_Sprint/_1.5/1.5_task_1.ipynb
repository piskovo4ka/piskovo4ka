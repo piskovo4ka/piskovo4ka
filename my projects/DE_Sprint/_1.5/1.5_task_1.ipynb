{
 "cells": [
  {
   "cell_type": "markdown",
   "id": "99bcf806",
   "metadata": {},
   "source": [
    "<h1> Подраздел 1.5 <span class=\"tocSkip\"></span></h1>"
   ]
  },
  {
   "cell_type": "markdown",
   "id": "41522828",
   "metadata": {},
   "source": [
    "<h1> Задание <span class=\"tocSkip\"></span></h1>"
   ]
  },
  {
   "cell_type": "markdown",
   "id": "1b578eb3",
   "metadata": {},
   "source": [
    "Требуется перевести спарсенный json в формат csv. \n",
    "\n",
    "А также сгруппировать вакансии по направлениями (DS, DE, Software Engenering, etc.) и ответить на вопросы:\n",
    "\n",
    "1. Какая средняя и медианная зарплата по группам вакансий?\n",
    "2. Какая средняя и медианная зарплата по каждому региону?\n",
    "3. Какая самая высокооплачиваемая из групп вакансий, исходя из их средних зарплат?\n",
    "4. Какое процентное соотношение каждого региона по вакансиям от всех вакансий?\n",
    "5. Какая корреляция уровня опыта от зарплаты?\n",
    "6. Сколько должностей в наборе данных?\n",
    "7. Какие 10 наиболее часто встречающихся должностей?\n"
   ]
  },
  {
   "cell_type": "markdown",
   "id": "a5d46b06",
   "metadata": {},
   "source": [
    "## Загрузка и обработка данных"
   ]
  },
  {
   "cell_type": "code",
   "execution_count": 1,
   "id": "013cdaa1",
   "metadata": {},
   "outputs": [],
   "source": [
    "import json\n",
    "import pandas as pd\n",
    "import numpy as np"
   ]
  },
  {
   "cell_type": "code",
   "execution_count": 2,
   "id": "7841ff9f",
   "metadata": {},
   "outputs": [
    {
     "name": "stdout",
     "output_type": "stream",
     "text": [
      "<class 'pandas.core.frame.DataFrame'>\n",
      "Int64Index: 607 entries, 0 to 606\n",
      "Data columns (total 11 columns):\n",
      " #   Column              Non-Null Count  Dtype \n",
      "---  ------              --------------  ----- \n",
      " 0   work_year           607 non-null    int64 \n",
      " 1   experience_level    607 non-null    object\n",
      " 2   employment_type     607 non-null    object\n",
      " 3   job_title           607 non-null    object\n",
      " 4   salary              607 non-null    int64 \n",
      " 5   salary_currency     607 non-null    object\n",
      " 6   salary_in_usd       607 non-null    int64 \n",
      " 7   employee_residence  607 non-null    object\n",
      " 8   remote_ratio        607 non-null    int64 \n",
      " 9   company_location    607 non-null    object\n",
      " 10  company_size        607 non-null    object\n",
      "dtypes: int64(4), object(7)\n",
      "memory usage: 56.9+ KB\n",
      "None\n"
     ]
    },
    {
     "data": {
      "text/html": [
       "<div>\n",
       "<style scoped>\n",
       "    .dataframe tbody tr th:only-of-type {\n",
       "        vertical-align: middle;\n",
       "    }\n",
       "\n",
       "    .dataframe tbody tr th {\n",
       "        vertical-align: top;\n",
       "    }\n",
       "\n",
       "    .dataframe thead th {\n",
       "        text-align: right;\n",
       "    }\n",
       "</style>\n",
       "<table border=\"1\" class=\"dataframe\">\n",
       "  <thead>\n",
       "    <tr style=\"text-align: right;\">\n",
       "      <th></th>\n",
       "      <th>work_year</th>\n",
       "      <th>experience_level</th>\n",
       "      <th>employment_type</th>\n",
       "      <th>job_title</th>\n",
       "      <th>salary</th>\n",
       "      <th>salary_currency</th>\n",
       "      <th>salary_in_usd</th>\n",
       "      <th>employee_residence</th>\n",
       "      <th>remote_ratio</th>\n",
       "      <th>company_location</th>\n",
       "      <th>company_size</th>\n",
       "    </tr>\n",
       "  </thead>\n",
       "  <tbody>\n",
       "    <tr>\n",
       "      <th>0</th>\n",
       "      <td>2020</td>\n",
       "      <td>MI</td>\n",
       "      <td>FT</td>\n",
       "      <td>Data Scientist</td>\n",
       "      <td>70000</td>\n",
       "      <td>EUR</td>\n",
       "      <td>79833</td>\n",
       "      <td>DE</td>\n",
       "      <td>0</td>\n",
       "      <td>DE</td>\n",
       "      <td>L</td>\n",
       "    </tr>\n",
       "    <tr>\n",
       "      <th>1</th>\n",
       "      <td>2020</td>\n",
       "      <td>SE</td>\n",
       "      <td>FT</td>\n",
       "      <td>Machine Learning Scientist</td>\n",
       "      <td>260000</td>\n",
       "      <td>USD</td>\n",
       "      <td>260000</td>\n",
       "      <td>JP</td>\n",
       "      <td>0</td>\n",
       "      <td>JP</td>\n",
       "      <td>S</td>\n",
       "    </tr>\n",
       "    <tr>\n",
       "      <th>2</th>\n",
       "      <td>2020</td>\n",
       "      <td>SE</td>\n",
       "      <td>FT</td>\n",
       "      <td>Big Data Engineer</td>\n",
       "      <td>85000</td>\n",
       "      <td>GBP</td>\n",
       "      <td>109024</td>\n",
       "      <td>GB</td>\n",
       "      <td>50</td>\n",
       "      <td>GB</td>\n",
       "      <td>M</td>\n",
       "    </tr>\n",
       "    <tr>\n",
       "      <th>3</th>\n",
       "      <td>2020</td>\n",
       "      <td>MI</td>\n",
       "      <td>FT</td>\n",
       "      <td>Product Data Analyst</td>\n",
       "      <td>20000</td>\n",
       "      <td>USD</td>\n",
       "      <td>20000</td>\n",
       "      <td>HN</td>\n",
       "      <td>0</td>\n",
       "      <td>HN</td>\n",
       "      <td>S</td>\n",
       "    </tr>\n",
       "    <tr>\n",
       "      <th>4</th>\n",
       "      <td>2020</td>\n",
       "      <td>SE</td>\n",
       "      <td>FT</td>\n",
       "      <td>Machine Learning Engineer</td>\n",
       "      <td>150000</td>\n",
       "      <td>USD</td>\n",
       "      <td>150000</td>\n",
       "      <td>US</td>\n",
       "      <td>50</td>\n",
       "      <td>US</td>\n",
       "      <td>L</td>\n",
       "    </tr>\n",
       "  </tbody>\n",
       "</table>\n",
       "</div>"
      ],
      "text/plain": [
       "   work_year experience_level employment_type                   job_title  \\\n",
       "0       2020               MI              FT              Data Scientist   \n",
       "1       2020               SE              FT  Machine Learning Scientist   \n",
       "2       2020               SE              FT           Big Data Engineer   \n",
       "3       2020               MI              FT        Product Data Analyst   \n",
       "4       2020               SE              FT   Machine Learning Engineer   \n",
       "\n",
       "   salary salary_currency  salary_in_usd employee_residence  remote_ratio  \\\n",
       "0   70000             EUR          79833                 DE             0   \n",
       "1  260000             USD         260000                 JP             0   \n",
       "2   85000             GBP         109024                 GB            50   \n",
       "3   20000             USD          20000                 HN             0   \n",
       "4  150000             USD         150000                 US            50   \n",
       "\n",
       "  company_location company_size  \n",
       "0               DE            L  \n",
       "1               JP            S  \n",
       "2               GB            M  \n",
       "3               HN            S  \n",
       "4               US            L  "
      ]
     },
     "execution_count": 2,
     "metadata": {},
     "output_type": "execute_result"
    }
   ],
   "source": [
    "df = pd.read_csv('ds_salaries.csv', index_col = 0)\n",
    "print(df.info())\n",
    "df.head()\n"
   ]
  },
  {
   "cell_type": "markdown",
   "id": "f264ef9a",
   "metadata": {},
   "source": [
    "Видим, что пропусков вроде бы нет"
   ]
  },
  {
   "cell_type": "markdown",
   "id": "7b24f780",
   "metadata": {},
   "source": [
    "Удалим дубликаты,если они есть, со сдигом индексов"
   ]
  },
  {
   "cell_type": "code",
   "execution_count": 3,
   "id": "047638d1",
   "metadata": {},
   "outputs": [
    {
     "data": {
      "text/html": [
       "<div>\n",
       "<style scoped>\n",
       "    .dataframe tbody tr th:only-of-type {\n",
       "        vertical-align: middle;\n",
       "    }\n",
       "\n",
       "    .dataframe tbody tr th {\n",
       "        vertical-align: top;\n",
       "    }\n",
       "\n",
       "    .dataframe thead th {\n",
       "        text-align: right;\n",
       "    }\n",
       "</style>\n",
       "<table border=\"1\" class=\"dataframe\">\n",
       "  <thead>\n",
       "    <tr style=\"text-align: right;\">\n",
       "      <th></th>\n",
       "      <th>work_year</th>\n",
       "      <th>experience_level</th>\n",
       "      <th>employment_type</th>\n",
       "      <th>job_title</th>\n",
       "      <th>salary</th>\n",
       "      <th>salary_currency</th>\n",
       "      <th>salary_in_usd</th>\n",
       "      <th>employee_residence</th>\n",
       "      <th>remote_ratio</th>\n",
       "      <th>company_location</th>\n",
       "      <th>company_size</th>\n",
       "    </tr>\n",
       "  </thead>\n",
       "  <tbody>\n",
       "    <tr>\n",
       "      <th>0</th>\n",
       "      <td>2020</td>\n",
       "      <td>MI</td>\n",
       "      <td>FT</td>\n",
       "      <td>Data Scientist</td>\n",
       "      <td>70000</td>\n",
       "      <td>EUR</td>\n",
       "      <td>79833</td>\n",
       "      <td>DE</td>\n",
       "      <td>0</td>\n",
       "      <td>DE</td>\n",
       "      <td>L</td>\n",
       "    </tr>\n",
       "    <tr>\n",
       "      <th>1</th>\n",
       "      <td>2020</td>\n",
       "      <td>SE</td>\n",
       "      <td>FT</td>\n",
       "      <td>Machine Learning Scientist</td>\n",
       "      <td>260000</td>\n",
       "      <td>USD</td>\n",
       "      <td>260000</td>\n",
       "      <td>JP</td>\n",
       "      <td>0</td>\n",
       "      <td>JP</td>\n",
       "      <td>S</td>\n",
       "    </tr>\n",
       "    <tr>\n",
       "      <th>2</th>\n",
       "      <td>2020</td>\n",
       "      <td>SE</td>\n",
       "      <td>FT</td>\n",
       "      <td>Big Data Engineer</td>\n",
       "      <td>85000</td>\n",
       "      <td>GBP</td>\n",
       "      <td>109024</td>\n",
       "      <td>GB</td>\n",
       "      <td>50</td>\n",
       "      <td>GB</td>\n",
       "      <td>M</td>\n",
       "    </tr>\n",
       "    <tr>\n",
       "      <th>3</th>\n",
       "      <td>2020</td>\n",
       "      <td>MI</td>\n",
       "      <td>FT</td>\n",
       "      <td>Product Data Analyst</td>\n",
       "      <td>20000</td>\n",
       "      <td>USD</td>\n",
       "      <td>20000</td>\n",
       "      <td>HN</td>\n",
       "      <td>0</td>\n",
       "      <td>HN</td>\n",
       "      <td>S</td>\n",
       "    </tr>\n",
       "    <tr>\n",
       "      <th>4</th>\n",
       "      <td>2020</td>\n",
       "      <td>SE</td>\n",
       "      <td>FT</td>\n",
       "      <td>Machine Learning Engineer</td>\n",
       "      <td>150000</td>\n",
       "      <td>USD</td>\n",
       "      <td>150000</td>\n",
       "      <td>US</td>\n",
       "      <td>50</td>\n",
       "      <td>US</td>\n",
       "      <td>L</td>\n",
       "    </tr>\n",
       "    <tr>\n",
       "      <th>...</th>\n",
       "      <td>...</td>\n",
       "      <td>...</td>\n",
       "      <td>...</td>\n",
       "      <td>...</td>\n",
       "      <td>...</td>\n",
       "      <td>...</td>\n",
       "      <td>...</td>\n",
       "      <td>...</td>\n",
       "      <td>...</td>\n",
       "      <td>...</td>\n",
       "      <td>...</td>\n",
       "    </tr>\n",
       "    <tr>\n",
       "      <th>560</th>\n",
       "      <td>2022</td>\n",
       "      <td>SE</td>\n",
       "      <td>FT</td>\n",
       "      <td>Data Engineer</td>\n",
       "      <td>154000</td>\n",
       "      <td>USD</td>\n",
       "      <td>154000</td>\n",
       "      <td>US</td>\n",
       "      <td>100</td>\n",
       "      <td>US</td>\n",
       "      <td>M</td>\n",
       "    </tr>\n",
       "    <tr>\n",
       "      <th>561</th>\n",
       "      <td>2022</td>\n",
       "      <td>SE</td>\n",
       "      <td>FT</td>\n",
       "      <td>Data Engineer</td>\n",
       "      <td>126000</td>\n",
       "      <td>USD</td>\n",
       "      <td>126000</td>\n",
       "      <td>US</td>\n",
       "      <td>100</td>\n",
       "      <td>US</td>\n",
       "      <td>M</td>\n",
       "    </tr>\n",
       "    <tr>\n",
       "      <th>562</th>\n",
       "      <td>2022</td>\n",
       "      <td>SE</td>\n",
       "      <td>FT</td>\n",
       "      <td>Data Analyst</td>\n",
       "      <td>129000</td>\n",
       "      <td>USD</td>\n",
       "      <td>129000</td>\n",
       "      <td>US</td>\n",
       "      <td>0</td>\n",
       "      <td>US</td>\n",
       "      <td>M</td>\n",
       "    </tr>\n",
       "    <tr>\n",
       "      <th>563</th>\n",
       "      <td>2022</td>\n",
       "      <td>SE</td>\n",
       "      <td>FT</td>\n",
       "      <td>Data Analyst</td>\n",
       "      <td>150000</td>\n",
       "      <td>USD</td>\n",
       "      <td>150000</td>\n",
       "      <td>US</td>\n",
       "      <td>100</td>\n",
       "      <td>US</td>\n",
       "      <td>M</td>\n",
       "    </tr>\n",
       "    <tr>\n",
       "      <th>564</th>\n",
       "      <td>2022</td>\n",
       "      <td>MI</td>\n",
       "      <td>FT</td>\n",
       "      <td>AI Scientist</td>\n",
       "      <td>200000</td>\n",
       "      <td>USD</td>\n",
       "      <td>200000</td>\n",
       "      <td>IN</td>\n",
       "      <td>100</td>\n",
       "      <td>US</td>\n",
       "      <td>L</td>\n",
       "    </tr>\n",
       "  </tbody>\n",
       "</table>\n",
       "<p>565 rows × 11 columns</p>\n",
       "</div>"
      ],
      "text/plain": [
       "     work_year experience_level employment_type                   job_title  \\\n",
       "0         2020               MI              FT              Data Scientist   \n",
       "1         2020               SE              FT  Machine Learning Scientist   \n",
       "2         2020               SE              FT           Big Data Engineer   \n",
       "3         2020               MI              FT        Product Data Analyst   \n",
       "4         2020               SE              FT   Machine Learning Engineer   \n",
       "..         ...              ...             ...                         ...   \n",
       "560       2022               SE              FT               Data Engineer   \n",
       "561       2022               SE              FT               Data Engineer   \n",
       "562       2022               SE              FT                Data Analyst   \n",
       "563       2022               SE              FT                Data Analyst   \n",
       "564       2022               MI              FT                AI Scientist   \n",
       "\n",
       "     salary salary_currency  salary_in_usd employee_residence  remote_ratio  \\\n",
       "0     70000             EUR          79833                 DE             0   \n",
       "1    260000             USD         260000                 JP             0   \n",
       "2     85000             GBP         109024                 GB            50   \n",
       "3     20000             USD          20000                 HN             0   \n",
       "4    150000             USD         150000                 US            50   \n",
       "..      ...             ...            ...                ...           ...   \n",
       "560  154000             USD         154000                 US           100   \n",
       "561  126000             USD         126000                 US           100   \n",
       "562  129000             USD         129000                 US             0   \n",
       "563  150000             USD         150000                 US           100   \n",
       "564  200000             USD         200000                 IN           100   \n",
       "\n",
       "    company_location company_size  \n",
       "0                 DE            L  \n",
       "1                 JP            S  \n",
       "2                 GB            M  \n",
       "3                 HN            S  \n",
       "4                 US            L  \n",
       "..               ...          ...  \n",
       "560               US            M  \n",
       "561               US            M  \n",
       "562               US            M  \n",
       "563               US            M  \n",
       "564               US            L  \n",
       "\n",
       "[565 rows x 11 columns]"
      ]
     },
     "execution_count": 3,
     "metadata": {},
     "output_type": "execute_result"
    }
   ],
   "source": [
    "df = df.drop_duplicates().reset_index(drop=True)\n",
    "df"
   ]
  },
  {
   "cell_type": "markdown",
   "id": "22d09829",
   "metadata": {},
   "source": [
    "### Какая средняя и медианная зарплата по группам вакансий?"
   ]
  },
  {
   "cell_type": "markdown",
   "id": "7f17d689",
   "metadata": {},
   "source": [
    "Средние зарплаты по должностям:"
   ]
  },
  {
   "cell_type": "code",
   "execution_count": 4,
   "id": "3ab1d3a4",
   "metadata": {},
   "outputs": [
    {
     "data": {
      "text/plain": [
       "job_title\n",
       "3D Computer Vision Researcher                400.000000\n",
       "AI Scientist                                 290.571429\n",
       "Analytics Engineer                           175.000000\n",
       "Applied Data Scientist                       172.400000\n",
       "Applied Machine Learning Scientist           141.350000\n",
       "BI Data Analyst                             1902.045333\n",
       "Big Data Architect                           125.000000\n",
       "Big Data Engineer                            455.000000\n",
       "Business Data Analyst                        355.000000\n",
       "Cloud Data Engineer                          140.000000\n",
       "Computer Vision Engineer                      83.500000\n",
       "Computer Vision Software Engineer            100.333333\n",
       "Data Analyst                                  94.480500\n",
       "Data Analytics Engineer                       61.750000\n",
       "Data Analytics Lead                          405.000000\n",
       "Data Analytics Manager                       127.134286\n",
       "Data Architect                               177.873909\n",
       "Data Engineer                                182.432835\n",
       "Data Engineering Manager                     119.799800\n",
       "Data Science Consultant                      122.714286\n",
       "Data Science Engineer                         84.500000\n",
       "Data Science Manager                        1062.598583\n",
       "Data Scientist                               543.619154\n",
       "Data Specialist                              165.000000\n",
       "Director of Data Engineering                 141.250000\n",
       "Director of Data Science                     193.285714\n",
       "ETL Developer                                 50.000000\n",
       "Finance Data Analyst                          45.000000\n",
       "Financial Data Analyst                       275.000000\n",
       "Head of Data                                 156.400000\n",
       "Head of Data Science                         146.718750\n",
       "Head of Machine Learning                    6000.000000\n",
       "Lead Data Analyst                            569.000000\n",
       "Lead Data Engineer                           140.333333\n",
       "Lead Data Scientist                         1101.666667\n",
       "Lead Machine Learning Engineer                80.000000\n",
       "ML Engineer                                 2676.666667\n",
       "Machine Learning Developer                   100.000000\n",
       "Machine Learning Engineer                    277.609923\n",
       "Machine Learning Infrastructure Engineer      97.333333\n",
       "Machine Learning Manager                     157.000000\n",
       "Machine Learning Scientist                   158.412500\n",
       "Marketing Data Analyst                        75.000000\n",
       "NLP Engineer                                 240.000000\n",
       "Principal Data Analyst                       122.500000\n",
       "Principal Data Engineer                      328.333333\n",
       "Principal Data Scientist                     206.714286\n",
       "Product Data Analyst                         235.000000\n",
       "Research Scientist                           110.493687\n",
       "Staff Data Scientist                         105.000000\n",
       "Name: salary, dtype: float64"
      ]
     },
     "execution_count": 4,
     "metadata": {},
     "output_type": "execute_result"
    }
   ],
   "source": [
    "df.groupby('job_title')['salary'].mean()/1000"
   ]
  },
  {
   "cell_type": "markdown",
   "id": "4f0b23a4",
   "metadata": {},
   "source": [
    "Медианные зарплаты по должностям:"
   ]
  },
  {
   "cell_type": "code",
   "execution_count": 5,
   "id": "62ce7777",
   "metadata": {},
   "outputs": [
    {
     "data": {
      "text/plain": [
       "job_title\n",
       "3D Computer Vision Researcher                400.0000\n",
       "AI Scientist                                 120.0000\n",
       "Analytics Engineer                           179.8500\n",
       "Applied Data Scientist                       157.0000\n",
       "Applied Machine Learning Scientist            56.7000\n",
       "BI Data Analyst                               99.0000\n",
       "Big Data Architect                           125.0000\n",
       "Big Data Engineer                             92.5000\n",
       "Business Data Analyst                        100.0000\n",
       "Cloud Data Engineer                          140.0000\n",
       "Computer Vision Engineer                      81.0000\n",
       "Computer Vision Software Engineer             81.0000\n",
       "Data Analyst                                  90.1600\n",
       "Data Analytics Engineer                       58.5000\n",
       "Data Analytics Lead                          405.0000\n",
       "Data Analytics Manager                       120.0000\n",
       "Data Architect                               180.0000\n",
       "Data Engineer                                108.0000\n",
       "Data Engineering Manager                     150.0000\n",
       "Data Science Consultant                       65.0000\n",
       "Data Science Engineer                         60.0000\n",
       "Data Science Manager                         167.6710\n",
       "Data Scientist                               116.5000\n",
       "Data Specialist                              165.0000\n",
       "Director of Data Engineering                 141.2500\n",
       "Director of Data Science                     168.0000\n",
       "ETL Developer                                 50.0000\n",
       "Finance Data Analyst                          45.0000\n",
       "Financial Data Analyst                       275.0000\n",
       "Head of Data                                 200.0000\n",
       "Head of Data Science                         138.9375\n",
       "Head of Machine Learning                    6000.0000\n",
       "Lead Data Analyst                            170.0000\n",
       "Lead Data Engineer                           137.5000\n",
       "Lead Data Scientist                          190.0000\n",
       "Lead Machine Learning Engineer                80.0000\n",
       "ML Engineer                                  263.0000\n",
       "Machine Learning Developer                   100.0000\n",
       "Machine Learning Engineer                     95.0000\n",
       "Machine Learning Infrastructure Engineer      53.0000\n",
       "Machine Learning Manager                     157.0000\n",
       "Machine Learning Scientist                   156.5000\n",
       "Marketing Data Analyst                        75.0000\n",
       "NLP Engineer                                 240.0000\n",
       "Principal Data Analyst                       122.5000\n",
       "Principal Data Engineer                      200.0000\n",
       "Principal Data Scientist                     151.0000\n",
       "Product Data Analyst                         235.0000\n",
       "Research Scientist                            74.9995\n",
       "Staff Data Scientist                         105.0000\n",
       "Name: salary, dtype: float64"
      ]
     },
     "execution_count": 5,
     "metadata": {},
     "output_type": "execute_result"
    }
   ],
   "source": [
    "df.groupby('job_title')['salary'].median()/1000"
   ]
  },
  {
   "cell_type": "markdown",
   "id": "f95479ac",
   "metadata": {},
   "source": [
    "### Какая самая высокооплачиваемая из групп вакансий, исходя из их средних зарплат?"
   ]
  },
  {
   "cell_type": "markdown",
   "id": "8b58fbef",
   "metadata": {},
   "source": [
    "Выведем 10 самых топовых вакансий"
   ]
  },
  {
   "cell_type": "code",
   "execution_count": 6,
   "id": "7b7a3a97",
   "metadata": {},
   "outputs": [
    {
     "data": {
      "text/plain": [
       "job_title\n",
       "Head of Machine Learning         6000.000000\n",
       "ML Engineer                      2676.666667\n",
       "BI Data Analyst                  1902.045333\n",
       "Lead Data Scientist              1101.666667\n",
       "Data Science Manager             1062.598583\n",
       "Lead Data Analyst                 569.000000\n",
       "Data Scientist                    543.619154\n",
       "Big Data Engineer                 455.000000\n",
       "Data Analytics Lead               405.000000\n",
       "3D Computer Vision Researcher     400.000000\n",
       "Name: salary, dtype: float64"
      ]
     },
     "execution_count": 6,
     "metadata": {},
     "output_type": "execute_result"
    }
   ],
   "source": [
    "(df.groupby('job_title')['salary'].mean()/1000).sort_values(ascending = False).head(10)"
   ]
  },
  {
   "cell_type": "markdown",
   "id": "83c94742",
   "metadata": {},
   "source": [
    "Самая крутая вакансия:"
   ]
  },
  {
   "cell_type": "code",
   "execution_count": 7,
   "id": "4de8af4c",
   "metadata": {},
   "outputs": [
    {
     "data": {
      "text/plain": [
       "job_title\n",
       "Head of Machine Learning    6000.0\n",
       "Name: salary, dtype: float64"
      ]
     },
     "execution_count": 7,
     "metadata": {},
     "output_type": "execute_result"
    }
   ],
   "source": [
    "(df.groupby('job_title')['salary'].mean()/1000).sort_values(ascending = False).head(1)"
   ]
  },
  {
   "cell_type": "markdown",
   "id": "3ee56586",
   "metadata": {},
   "source": [
    "### Какая средняя и медианная зарплата по каждому региону?"
   ]
  },
  {
   "cell_type": "markdown",
   "id": "2b3ed947",
   "metadata": {},
   "source": [
    "Отсортированные средние зарплаты по региону:"
   ]
  },
  {
   "cell_type": "code",
   "execution_count": 8,
   "id": "5efdfaa0",
   "metadata": {},
   "outputs": [
    {
     "data": {
      "text/plain": [
       "employee_residence\n",
       "CL    30400.000000\n",
       "HU    11000.000000\n",
       "JP     2927.428571\n",
       "IN     1870.166567\n",
       "MX      389.000000\n",
       "CN      299.000000\n",
       "DK      240.000000\n",
       "MY      200.000000\n",
       "TR      179.333333\n",
       "PR      160.000000\n",
       "US      150.782254\n",
       "SG      140.000000\n",
       "PL      135.000000\n",
       "AU      130.333333\n",
       "NZ      125.000000\n",
       "CH      115.000000\n",
       "CA      113.885185\n",
       "RU      105.750000\n",
       "JE      100.000000\n",
       "AE      100.000000\n",
       "IQ      100.000000\n",
       "DZ      100.000000\n",
       "BG       80.000000\n",
       "BR       77.933333\n",
       "BO       75.000000\n",
       "DE       73.539958\n",
       "BE       72.500000\n",
       "CZ       69.999000\n",
       "AT       68.000000\n",
       "IE       65.000000\n",
       "GB       62.159442\n",
       "AR       60.000000\n",
       "NL       56.280000\n",
       "SI       54.000000\n",
       "IT       53.050000\n",
       "ES       53.010667\n",
       "FR       52.512222\n",
       "GR       50.500000\n",
       "LU       50.000000\n",
       "HK       48.000000\n",
       "PH       45.760000\n",
       "RO       43.500000\n",
       "HR       40.000000\n",
       "PT       39.066667\n",
       "VN       30.800000\n",
       "EE       30.000000\n",
       "NG       30.000000\n",
       "TN       29.000000\n",
       "PK       25.466667\n",
       "MT       24.000000\n",
       "CO       21.844000\n",
       "RS       21.600000\n",
       "HN       20.000000\n",
       "MD       18.000000\n",
       "UA       13.400000\n",
       "KE        9.272000\n",
       "IR        4.000000\n",
       "Name: salary, dtype: float64"
      ]
     },
     "execution_count": 8,
     "metadata": {},
     "output_type": "execute_result"
    }
   ],
   "source": [
    "(df.groupby('employee_residence')['salary'].mean()/1000).sort_values(ascending = False)"
   ]
  },
  {
   "cell_type": "markdown",
   "id": "923e2021",
   "metadata": {},
   "source": [
    "Отсортированные медианные зарплаты по региону:"
   ]
  },
  {
   "cell_type": "code",
   "execution_count": 9,
   "id": "35ca0347",
   "metadata": {},
   "outputs": [
    {
     "data": {
      "text/plain": [
       "employee_residence\n",
       "CL    30400.000\n",
       "HU    11000.000\n",
       "IN     1425.000\n",
       "MX      389.000\n",
       "CN      299.000\n",
       "JP      260.000\n",
       "DK      240.000\n",
       "MY      200.000\n",
       "TR      180.000\n",
       "PR      160.000\n",
       "SG      140.000\n",
       "US      138.350\n",
       "PL      130.000\n",
       "NZ      125.000\n",
       "AU      121.000\n",
       "AE      115.000\n",
       "CH      115.000\n",
       "JE      100.000\n",
       "IQ      100.000\n",
       "DZ      100.000\n",
       "CA      100.000\n",
       "BR       84.800\n",
       "BG       80.000\n",
       "BO       75.000\n",
       "BE       72.500\n",
       "RU       72.500\n",
       "CZ       69.999\n",
       "DE       66.000\n",
       "AT       65.000\n",
       "IE       65.000\n",
       "GB       60.000\n",
       "AR       60.000\n",
       "NL       57.000\n",
       "SI       54.000\n",
       "FR       50.000\n",
       "LU       50.000\n",
       "HK       48.000\n",
       "PT       47.700\n",
       "GR       47.500\n",
       "PH       45.760\n",
       "ES       45.000\n",
       "RO       43.500\n",
       "HR       40.000\n",
       "VN       38.400\n",
       "IT       31.600\n",
       "NG       30.000\n",
       "EE       30.000\n",
       "TN       29.000\n",
       "MT       24.000\n",
       "CO       21.844\n",
       "RS       21.600\n",
       "HN       20.000\n",
       "MD       18.000\n",
       "PK       16.000\n",
       "UA       13.400\n",
       "KE        9.272\n",
       "IR        4.000\n",
       "Name: salary, dtype: float64"
      ]
     },
     "execution_count": 9,
     "metadata": {},
     "output_type": "execute_result"
    }
   ],
   "source": [
    "(df.groupby('employee_residence')['salary'].median()/1000).sort_values(ascending = False)"
   ]
  },
  {
   "cell_type": "markdown",
   "id": "a54dfa58",
   "metadata": {},
   "source": [
    "### Какое процентное соотношение каждого региона по вакансиям от всех вакансий?"
   ]
  },
  {
   "cell_type": "markdown",
   "id": "d3c44b6b",
   "metadata": {},
   "source": [
    "Всего вакансий:"
   ]
  },
  {
   "cell_type": "code",
   "execution_count": 22,
   "id": "5501a7f8",
   "metadata": {},
   "outputs": [
    {
     "data": {
      "text/plain": [
       "565"
      ]
     },
     "execution_count": 22,
     "metadata": {},
     "output_type": "execute_result"
    }
   ],
   "source": [
    "len(df)"
   ]
  },
  {
   "cell_type": "markdown",
   "id": "c606ab61",
   "metadata": {},
   "source": [
    "Процентное соотношение каждого региона по вакансиям от всех вакансий:"
   ]
  },
  {
   "cell_type": "code",
   "execution_count": 33,
   "id": "ff52a481",
   "metadata": {},
   "outputs": [
    {
     "name": "stdout",
     "output_type": "stream",
     "text": [
      "employee_residence\n",
      "AE    0.00531\n",
      "AR    0.00177\n",
      "AT    0.00531\n",
      "AU    0.00531\n",
      "BE    0.00354\n",
      "BG    0.00177\n",
      "BO    0.00177\n",
      "BR    0.01062\n",
      "CA    0.04779\n",
      "CH    0.00177\n",
      "CL    0.00177\n",
      "CN    0.00177\n",
      "CO    0.00177\n",
      "CZ    0.00177\n",
      "DE    0.04248\n",
      "DK    0.00354\n",
      "DZ    0.00177\n",
      "EE    0.00177\n",
      "ES    0.02655\n",
      "FR    0.03186\n",
      "GB    0.07611\n",
      "GR    0.02124\n",
      "HK    0.00177\n",
      "HN    0.00177\n",
      "HR    0.00177\n",
      "HU    0.00354\n",
      "IE    0.00177\n",
      "IN    0.05310\n",
      "IQ    0.00177\n",
      "IR    0.00177\n",
      "IT    0.00708\n",
      "JE    0.00177\n",
      "JP    0.01239\n",
      "KE    0.00177\n",
      "LU    0.00177\n",
      "MD    0.00177\n",
      "MT    0.00177\n",
      "MX    0.00354\n",
      "MY    0.00177\n",
      "NG    0.00354\n",
      "NL    0.00885\n",
      "NZ    0.00177\n",
      "PH    0.00177\n",
      "PK    0.01062\n",
      "PL    0.00708\n",
      "PR    0.00177\n",
      "PT    0.01062\n",
      "RO    0.00354\n",
      "RS    0.00177\n",
      "RU    0.00708\n",
      "SG    0.00354\n",
      "SI    0.00354\n",
      "TN    0.00177\n",
      "TR    0.00531\n",
      "UA    0.00177\n",
      "US    0.52212\n",
      "VN    0.00531\n",
      "Name: salary, dtype: float64\n"
     ]
    }
   ],
   "source": [
    "print(round(df.groupby('employee_residence')['salary'].count()/len(df), 5))"
   ]
  },
  {
   "cell_type": "markdown",
   "id": "0d3c1d54",
   "metadata": {},
   "source": [
    "### Какая корреляция уровня опыта от зарплаты?"
   ]
  },
  {
   "cell_type": "markdown",
   "id": "77edfc77",
   "metadata": {},
   "source": [
    "Посмотрим уникальные значения в признаке experience_level"
   ]
  },
  {
   "cell_type": "code",
   "execution_count": 10,
   "id": "756a2c7b",
   "metadata": {},
   "outputs": [
    {
     "data": {
      "text/plain": [
       "SE    243\n",
       "MI    208\n",
       "EN     88\n",
       "EX     26\n",
       "Name: experience_level, dtype: int64"
      ]
     },
     "execution_count": 10,
     "metadata": {},
     "output_type": "execute_result"
    }
   ],
   "source": [
    "df.experience_level.value_counts()"
   ]
  },
  {
   "cell_type": "markdown",
   "id": "dabca1b4",
   "metadata": {},
   "source": [
    "Создадим новый столбец, содержащий 4 различных категории уровня опыта"
   ]
  },
  {
   "cell_type": "code",
   "execution_count": 11,
   "id": "594fb34e",
   "metadata": {},
   "outputs": [],
   "source": [
    "def create_experience_category(i):\n",
    "    \n",
    "    if i == 'SE':\n",
    "        return 0\n",
    "    if i == 'MI':\n",
    "        return 1\n",
    "    if i == 'EN':\n",
    "        return 2\n",
    "    if i == 'EX':\n",
    "        return 3 \n",
    "      "
   ]
  },
  {
   "cell_type": "code",
   "execution_count": 12,
   "id": "2b8dd0a9",
   "metadata": {},
   "outputs": [],
   "source": [
    "df['experience_category'] = df['experience_level'].apply(create_experience_category)"
   ]
  },
  {
   "cell_type": "markdown",
   "id": "2f9b1717",
   "metadata": {},
   "source": [
    "Посмотрим уникальные значения в столбце work_year"
   ]
  },
  {
   "cell_type": "code",
   "execution_count": 13,
   "id": "e2fb0a3d",
   "metadata": {},
   "outputs": [
    {
     "data": {
      "text/plain": [
       "2022    278\n",
       "2021    215\n",
       "2020     72\n",
       "Name: work_year, dtype: int64"
      ]
     },
     "execution_count": 13,
     "metadata": {},
     "output_type": "execute_result"
    }
   ],
   "source": [
    "df.work_year.value_counts()"
   ]
  },
  {
   "cell_type": "markdown",
   "id": "2e18057c",
   "metadata": {},
   "source": [
    "Построим матрицу корреляции"
   ]
  },
  {
   "cell_type": "code",
   "execution_count": 14,
   "id": "a25843d4",
   "metadata": {},
   "outputs": [
    {
     "data": {
      "text/html": [
       "<style type=\"text/css\">\n",
       "#T_d2081_row0_col0, #T_d2081_row1_col1, #T_d2081_row2_col2 {\n",
       "  background-color: #b40426;\n",
       "  color: #f1f1f1;\n",
       "}\n",
       "#T_d2081_row0_col1 {\n",
       "  background-color: #5b7ae5;\n",
       "  color: #f1f1f1;\n",
       "}\n",
       "#T_d2081_row0_col2, #T_d2081_row2_col0, #T_d2081_row2_col1 {\n",
       "  background-color: #3b4cc0;\n",
       "  color: #f1f1f1;\n",
       "}\n",
       "#T_d2081_row1_col0 {\n",
       "  background-color: #80a3fa;\n",
       "  color: #f1f1f1;\n",
       "}\n",
       "#T_d2081_row1_col2 {\n",
       "  background-color: #5f7fe8;\n",
       "  color: #f1f1f1;\n",
       "}\n",
       "</style>\n",
       "<table id=\"T_d2081\">\n",
       "  <thead>\n",
       "    <tr>\n",
       "      <th class=\"blank level0\" >&nbsp;</th>\n",
       "      <th id=\"T_d2081_level0_col0\" class=\"col_heading level0 col0\" >experience_category</th>\n",
       "      <th id=\"T_d2081_level0_col1\" class=\"col_heading level0 col1\" >salary</th>\n",
       "      <th id=\"T_d2081_level0_col2\" class=\"col_heading level0 col2\" >work_year</th>\n",
       "    </tr>\n",
       "  </thead>\n",
       "  <tbody>\n",
       "    <tr>\n",
       "      <th id=\"T_d2081_level0_row0\" class=\"row_heading level0 row0\" >experience_category</th>\n",
       "      <td id=\"T_d2081_row0_col0\" class=\"data row0 col0\" >1.000000</td>\n",
       "      <td id=\"T_d2081_row0_col1\" class=\"data row0 col1\" >0.033029</td>\n",
       "      <td id=\"T_d2081_row0_col2\" class=\"data row0 col2\" >-0.228958</td>\n",
       "    </tr>\n",
       "    <tr>\n",
       "      <th id=\"T_d2081_level0_row1\" class=\"row_heading level0 row1\" >salary</th>\n",
       "      <td id=\"T_d2081_row1_col0\" class=\"data row1 col0\" >0.033029</td>\n",
       "      <td id=\"T_d2081_row1_col1\" class=\"data row1 col1\" >1.000000</td>\n",
       "      <td id=\"T_d2081_row1_col2\" class=\"data row1 col2\" >-0.082597</td>\n",
       "    </tr>\n",
       "    <tr>\n",
       "      <th id=\"T_d2081_level0_row2\" class=\"row_heading level0 row2\" >work_year</th>\n",
       "      <td id=\"T_d2081_row2_col0\" class=\"data row2 col0\" >-0.228958</td>\n",
       "      <td id=\"T_d2081_row2_col1\" class=\"data row2 col1\" >-0.082597</td>\n",
       "      <td id=\"T_d2081_row2_col2\" class=\"data row2 col2\" >1.000000</td>\n",
       "    </tr>\n",
       "  </tbody>\n",
       "</table>\n"
      ],
      "text/plain": [
       "<pandas.io.formats.style.Styler at 0x16894889760>"
      ]
     },
     "execution_count": 14,
     "metadata": {},
     "output_type": "execute_result"
    }
   ],
   "source": [
    "corr = df[['experience_category', 'salary', 'work_year']].corr().style.background_gradient(cmap='coolwarm')\n",
    "corr"
   ]
  },
  {
   "cell_type": "markdown",
   "id": "a7b36fa5",
   "metadata": {},
   "source": [
    "Видим, что корреляция отсутствует."
   ]
  },
  {
   "cell_type": "markdown",
   "id": "b3c5417d",
   "metadata": {},
   "source": [
    "### Сколько должностей в наборе данных?"
   ]
  },
  {
   "cell_type": "markdown",
   "id": "28c5108d",
   "metadata": {},
   "source": [
    "Посмотрим уникальные названия должностей"
   ]
  },
  {
   "cell_type": "code",
   "execution_count": 15,
   "id": "c1513029",
   "metadata": {},
   "outputs": [
    {
     "name": "stdout",
     "output_type": "stream",
     "text": [
      "50\n"
     ]
    },
    {
     "data": {
      "text/plain": [
       "Data Scientist                              130\n",
       "Data Engineer                               121\n",
       "Data Analyst                                 82\n",
       "Machine Learning Engineer                    39\n",
       "Research Scientist                           16\n",
       "Data Science Manager                         12\n",
       "Data Architect                               11\n",
       "Big Data Engineer                             8\n",
       "Machine Learning Scientist                    8\n",
       "Principal Data Scientist                      7\n",
       "AI Scientist                                  7\n",
       "Data Science Consultant                       7\n",
       "Director of Data Science                      7\n",
       "Data Analytics Manager                        7\n",
       "ML Engineer                                   6\n",
       "Computer Vision Engineer                      6\n",
       "BI Data Analyst                               6\n",
       "Lead Data Engineer                            6\n",
       "Data Engineering Manager                      5\n",
       "Business Data Analyst                         5\n",
       "Head of Data                                  5\n",
       "Applied Data Scientist                        5\n",
       "Applied Machine Learning Scientist            4\n",
       "Head of Data Science                          4\n",
       "Analytics Engineer                            4\n",
       "Data Analytics Engineer                       4\n",
       "Machine Learning Developer                    3\n",
       "Lead Data Scientist                           3\n",
       "Computer Vision Software Engineer             3\n",
       "Data Science Engineer                         3\n",
       "Principal Data Engineer                       3\n",
       "Machine Learning Infrastructure Engineer      3\n",
       "Lead Data Analyst                             3\n",
       "Cloud Data Engineer                           2\n",
       "Financial Data Analyst                        2\n",
       "Director of Data Engineering                  2\n",
       "Product Data Analyst                          2\n",
       "Principal Data Analyst                        2\n",
       "Head of Machine Learning                      1\n",
       "3D Computer Vision Researcher                 1\n",
       "NLP Engineer                                  1\n",
       "Lead Machine Learning Engineer                1\n",
       "ETL Developer                                 1\n",
       "Data Specialist                               1\n",
       "Staff Data Scientist                          1\n",
       "Big Data Architect                            1\n",
       "Finance Data Analyst                          1\n",
       "Marketing Data Analyst                        1\n",
       "Machine Learning Manager                      1\n",
       "Data Analytics Lead                           1\n",
       "Name: job_title, dtype: int64"
      ]
     },
     "execution_count": 15,
     "metadata": {},
     "output_type": "execute_result"
    }
   ],
   "source": [
    "print(len(df.job_title.value_counts()))\n",
    "df.job_title.value_counts()"
   ]
  },
  {
   "cell_type": "markdown",
   "id": "66661827",
   "metadata": {},
   "source": [
    "Всего 50 должностей"
   ]
  },
  {
   "cell_type": "markdown",
   "id": "ba265180",
   "metadata": {},
   "source": [
    "### Какие 10 наиболее часто встречающихся должностей?"
   ]
  },
  {
   "cell_type": "markdown",
   "id": "b143ab65",
   "metadata": {},
   "source": [
    "Выведем 10 наиболее часто встречающихся должностей на экран"
   ]
  },
  {
   "cell_type": "code",
   "execution_count": 16,
   "id": "6a816180",
   "metadata": {},
   "outputs": [
    {
     "name": "stdout",
     "output_type": "stream",
     "text": [
      "10 наиболее часто встречающихся должностей:\n",
      " ['Data Scientist', 'Data Engineer', 'Data Analyst', 'Machine Learning Engineer', 'Research Scientist', 'Data Science Manager', 'Data Architect', 'Big Data Engineer', 'Machine Learning Scientist', 'Principal Data Scientist']\n"
     ]
    }
   ],
   "source": [
    "print(f'10 наиболее часто встречающихся должностей:\\n {list(df.job_title.value_counts().index[:10])}')"
   ]
  }
 ],
 "metadata": {
  "kernelspec": {
   "display_name": "Python 3 (ipykernel)",
   "language": "python",
   "name": "python3"
  },
  "language_info": {
   "codemirror_mode": {
    "name": "ipython",
    "version": 3
   },
   "file_extension": ".py",
   "mimetype": "text/x-python",
   "name": "python",
   "nbconvert_exporter": "python",
   "pygments_lexer": "ipython3",
   "version": "3.9.12"
  },
  "toc": {
   "base_numbering": 1,
   "nav_menu": {},
   "number_sections": true,
   "sideBar": true,
   "skip_h1_title": false,
   "title_cell": "Table of Contents",
   "title_sidebar": "Contents",
   "toc_cell": false,
   "toc_position": {},
   "toc_section_display": true,
   "toc_window_display": true
  }
 },
 "nbformat": 4,
 "nbformat_minor": 5
}
