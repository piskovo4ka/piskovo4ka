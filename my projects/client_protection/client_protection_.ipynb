{
 "cells": [
  {
   "cell_type": "markdown",
   "metadata": {},
   "source": [
    "<font size=5><b>Защита персональных данных клиентов</b></font>"
   ]
  },
  {
   "cell_type": "markdown",
   "metadata": {},
   "source": [
    "<h2> Описание проекта <a class=\"tocSkip\"></h2>\n",
    "\n",
    "В данном проекте необходимо защитить данные клиентов страховой компании: разработать метод преобразования данных, чтобы по ним было сложно восстановить персональную информацию и чтобы при преобразовании качество моделей машинного обучения не ухудшилось. "
   ]
  },
  {
   "cell_type": "markdown",
   "metadata": {},
   "source": [
    "<h2> План работы <a class=\"tocSkip\"></h2> \n",
    "\n",
    " - Загрузка данных \n",
    " - Удаление дубликатов при наличии\n",
    " - Изменение типов данных \n",
    " - Построение матрицы корреляции признаков\n",
    " - Построение гистограмм распределения признаков\n",
    " - Теоретическое обоснование алгоритма шифрования данных\n",
    " - Описание и проверка алгоритма шифрования\n",
    " - Выводы"
   ]
  },
  {
   "cell_type": "markdown",
   "metadata": {
    "toc": true
   },
   "source": [
    "<h1>Содержание<span class=\"tocSkip\"></span></h1>\n",
    "<div class=\"toc\"><ul class=\"toc-item\"><li><span><a href=\"#Загрузка-данных\" data-toc-modified-id=\"Загрузка-данных-1\"><span class=\"toc-item-num\">1&nbsp;&nbsp;</span>Загрузка данных</a></span><ul class=\"toc-item\"><li><span><a href=\"#Вывод\" data-toc-modified-id=\"Вывод-1.1\"><span class=\"toc-item-num\">1.1&nbsp;&nbsp;</span>Вывод</a></span></li></ul></li><li><span><a href=\"#Умножение-матриц\" data-toc-modified-id=\"Умножение-матриц-2\"><span class=\"toc-item-num\">2&nbsp;&nbsp;</span>Умножение матриц</a></span><ul class=\"toc-item\"><li><span><a href=\"#Вывод\" data-toc-modified-id=\"Вывод-2.1\"><span class=\"toc-item-num\">2.1&nbsp;&nbsp;</span>Вывод</a></span></li></ul></li><li><span><a href=\"#Алгоритм-преобразования\" data-toc-modified-id=\"Алгоритм-преобразования-3\"><span class=\"toc-item-num\">3&nbsp;&nbsp;</span>Алгоритм преобразования</a></span><ul class=\"toc-item\"><li><span><a href=\"#Вывод\" data-toc-modified-id=\"Вывод-3.1\"><span class=\"toc-item-num\">3.1&nbsp;&nbsp;</span>Вывод</a></span></li></ul></li><li><span><a href=\"#Проверка-алгоритма\" data-toc-modified-id=\"Проверка-алгоритма-4\"><span class=\"toc-item-num\">4&nbsp;&nbsp;</span>Проверка алгоритма</a></span><ul class=\"toc-item\"><li><span><a href=\"#R2-на-исходных-данных\" data-toc-modified-id=\"R2-на-исходных-данных-4.1\"><span class=\"toc-item-num\">4.1&nbsp;&nbsp;</span>R2 на исходных данных</a></span></li><li><span><a href=\"#R2-на-шифрованных-данных\" data-toc-modified-id=\"R2-на-шифрованных-данных-4.2\"><span class=\"toc-item-num\">4.2&nbsp;&nbsp;</span>R2 на шифрованных данных</a></span></li><li><span><a href=\"#Вывод\" data-toc-modified-id=\"Вывод-4.3\"><span class=\"toc-item-num\">4.3&nbsp;&nbsp;</span>Вывод</a></span></li></ul></li></ul></div>"
   ]
  },
  {
   "cell_type": "markdown",
   "metadata": {},
   "source": [
    "## Загрузка данных"
   ]
  },
  {
   "cell_type": "markdown",
   "metadata": {},
   "source": [
    "Импортируем необходимые библиотеки."
   ]
  },
  {
   "cell_type": "code",
   "execution_count": 1,
   "metadata": {},
   "outputs": [],
   "source": [
    "import pandas as pd\n",
    "import numpy as np\n",
    "import seaborn as sns\n",
    "import matplotlib.pyplot as plt\n",
    "\n",
    "from sklearn.linear_model import LinearRegression\n",
    "from sklearn.model_selection import train_test_split\n",
    "from sklearn.metrics import r2_score"
   ]
  },
  {
   "cell_type": "markdown",
   "metadata": {},
   "source": [
    "Загрузим данные"
   ]
  },
  {
   "cell_type": "code",
   "execution_count": 2,
   "metadata": {},
   "outputs": [
    {
     "data": {
      "text/html": [
       "<div>\n",
       "<style scoped>\n",
       "    .dataframe tbody tr th:only-of-type {\n",
       "        vertical-align: middle;\n",
       "    }\n",
       "\n",
       "    .dataframe tbody tr th {\n",
       "        vertical-align: top;\n",
       "    }\n",
       "\n",
       "    .dataframe thead th {\n",
       "        text-align: right;\n",
       "    }\n",
       "</style>\n",
       "<table border=\"1\" class=\"dataframe\">\n",
       "  <thead>\n",
       "    <tr style=\"text-align: right;\">\n",
       "      <th></th>\n",
       "      <th>Пол</th>\n",
       "      <th>Возраст</th>\n",
       "      <th>Зарплата</th>\n",
       "      <th>Члены семьи</th>\n",
       "      <th>Страховые выплаты</th>\n",
       "    </tr>\n",
       "  </thead>\n",
       "  <tbody>\n",
       "    <tr>\n",
       "      <th>4652</th>\n",
       "      <td>1</td>\n",
       "      <td>22.0</td>\n",
       "      <td>45000.0</td>\n",
       "      <td>2</td>\n",
       "      <td>0</td>\n",
       "    </tr>\n",
       "    <tr>\n",
       "      <th>4862</th>\n",
       "      <td>0</td>\n",
       "      <td>24.0</td>\n",
       "      <td>25500.0</td>\n",
       "      <td>1</td>\n",
       "      <td>0</td>\n",
       "    </tr>\n",
       "    <tr>\n",
       "      <th>420</th>\n",
       "      <td>1</td>\n",
       "      <td>48.0</td>\n",
       "      <td>13800.0</td>\n",
       "      <td>2</td>\n",
       "      <td>1</td>\n",
       "    </tr>\n",
       "    <tr>\n",
       "      <th>3909</th>\n",
       "      <td>1</td>\n",
       "      <td>33.0</td>\n",
       "      <td>39000.0</td>\n",
       "      <td>3</td>\n",
       "      <td>0</td>\n",
       "    </tr>\n",
       "    <tr>\n",
       "      <th>150</th>\n",
       "      <td>1</td>\n",
       "      <td>21.0</td>\n",
       "      <td>31900.0</td>\n",
       "      <td>1</td>\n",
       "      <td>0</td>\n",
       "    </tr>\n",
       "    <tr>\n",
       "      <th>928</th>\n",
       "      <td>1</td>\n",
       "      <td>21.0</td>\n",
       "      <td>30900.0</td>\n",
       "      <td>2</td>\n",
       "      <td>0</td>\n",
       "    </tr>\n",
       "    <tr>\n",
       "      <th>4707</th>\n",
       "      <td>0</td>\n",
       "      <td>26.0</td>\n",
       "      <td>36700.0</td>\n",
       "      <td>2</td>\n",
       "      <td>0</td>\n",
       "    </tr>\n",
       "    <tr>\n",
       "      <th>2182</th>\n",
       "      <td>1</td>\n",
       "      <td>18.0</td>\n",
       "      <td>45800.0</td>\n",
       "      <td>1</td>\n",
       "      <td>0</td>\n",
       "    </tr>\n",
       "    <tr>\n",
       "      <th>835</th>\n",
       "      <td>1</td>\n",
       "      <td>23.0</td>\n",
       "      <td>31500.0</td>\n",
       "      <td>2</td>\n",
       "      <td>0</td>\n",
       "    </tr>\n",
       "    <tr>\n",
       "      <th>2591</th>\n",
       "      <td>1</td>\n",
       "      <td>45.0</td>\n",
       "      <td>51000.0</td>\n",
       "      <td>2</td>\n",
       "      <td>1</td>\n",
       "    </tr>\n",
       "  </tbody>\n",
       "</table>\n",
       "</div>"
      ],
      "text/plain": [
       "      Пол  Возраст  Зарплата  Члены семьи  Страховые выплаты\n",
       "4652    1     22.0   45000.0            2                  0\n",
       "4862    0     24.0   25500.0            1                  0\n",
       "420     1     48.0   13800.0            2                  1\n",
       "3909    1     33.0   39000.0            3                  0\n",
       "150     1     21.0   31900.0            1                  0\n",
       "928     1     21.0   30900.0            2                  0\n",
       "4707    0     26.0   36700.0            2                  0\n",
       "2182    1     18.0   45800.0            1                  0\n",
       "835     1     23.0   31500.0            2                  0\n",
       "2591    1     45.0   51000.0            2                  1"
      ]
     },
     "execution_count": 2,
     "metadata": {},
     "output_type": "execute_result"
    }
   ],
   "source": [
    "# для открытия файла используем два варианта: для работы на платформе и локально\n",
    "try:\n",
    "    df = pd.read_csv('insurance.csv')\n",
    "except:\n",
    "    df = pd.read_csv('/datasets/insurance.csv')\n",
    "df.sample(10)"
   ]
  },
  {
   "cell_type": "code",
   "execution_count": 3,
   "metadata": {},
   "outputs": [
    {
     "data": {
      "text/html": [
       "<div>\n",
       "<style scoped>\n",
       "    .dataframe tbody tr th:only-of-type {\n",
       "        vertical-align: middle;\n",
       "    }\n",
       "\n",
       "    .dataframe tbody tr th {\n",
       "        vertical-align: top;\n",
       "    }\n",
       "\n",
       "    .dataframe thead th {\n",
       "        text-align: right;\n",
       "    }\n",
       "</style>\n",
       "<table border=\"1\" class=\"dataframe\">\n",
       "  <thead>\n",
       "    <tr style=\"text-align: right;\">\n",
       "      <th></th>\n",
       "      <th>Пол</th>\n",
       "      <th>Возраст</th>\n",
       "      <th>Зарплата</th>\n",
       "      <th>Члены семьи</th>\n",
       "      <th>Страховые выплаты</th>\n",
       "    </tr>\n",
       "  </thead>\n",
       "  <tbody>\n",
       "    <tr>\n",
       "      <th>count</th>\n",
       "      <td>5000.000000</td>\n",
       "      <td>5000.000000</td>\n",
       "      <td>5000.000000</td>\n",
       "      <td>5000.000000</td>\n",
       "      <td>5000.000000</td>\n",
       "    </tr>\n",
       "    <tr>\n",
       "      <th>mean</th>\n",
       "      <td>0.499000</td>\n",
       "      <td>30.952800</td>\n",
       "      <td>39916.360000</td>\n",
       "      <td>1.194200</td>\n",
       "      <td>0.148000</td>\n",
       "    </tr>\n",
       "    <tr>\n",
       "      <th>std</th>\n",
       "      <td>0.500049</td>\n",
       "      <td>8.440807</td>\n",
       "      <td>9900.083569</td>\n",
       "      <td>1.091387</td>\n",
       "      <td>0.463183</td>\n",
       "    </tr>\n",
       "    <tr>\n",
       "      <th>min</th>\n",
       "      <td>0.000000</td>\n",
       "      <td>18.000000</td>\n",
       "      <td>5300.000000</td>\n",
       "      <td>0.000000</td>\n",
       "      <td>0.000000</td>\n",
       "    </tr>\n",
       "    <tr>\n",
       "      <th>25%</th>\n",
       "      <td>0.000000</td>\n",
       "      <td>24.000000</td>\n",
       "      <td>33300.000000</td>\n",
       "      <td>0.000000</td>\n",
       "      <td>0.000000</td>\n",
       "    </tr>\n",
       "    <tr>\n",
       "      <th>50%</th>\n",
       "      <td>0.000000</td>\n",
       "      <td>30.000000</td>\n",
       "      <td>40200.000000</td>\n",
       "      <td>1.000000</td>\n",
       "      <td>0.000000</td>\n",
       "    </tr>\n",
       "    <tr>\n",
       "      <th>75%</th>\n",
       "      <td>1.000000</td>\n",
       "      <td>37.000000</td>\n",
       "      <td>46600.000000</td>\n",
       "      <td>2.000000</td>\n",
       "      <td>0.000000</td>\n",
       "    </tr>\n",
       "    <tr>\n",
       "      <th>max</th>\n",
       "      <td>1.000000</td>\n",
       "      <td>65.000000</td>\n",
       "      <td>79000.000000</td>\n",
       "      <td>6.000000</td>\n",
       "      <td>5.000000</td>\n",
       "    </tr>\n",
       "  </tbody>\n",
       "</table>\n",
       "</div>"
      ],
      "text/plain": [
       "               Пол      Возраст      Зарплата  Члены семьи  Страховые выплаты\n",
       "count  5000.000000  5000.000000   5000.000000  5000.000000        5000.000000\n",
       "mean      0.499000    30.952800  39916.360000     1.194200           0.148000\n",
       "std       0.500049     8.440807   9900.083569     1.091387           0.463183\n",
       "min       0.000000    18.000000   5300.000000     0.000000           0.000000\n",
       "25%       0.000000    24.000000  33300.000000     0.000000           0.000000\n",
       "50%       0.000000    30.000000  40200.000000     1.000000           0.000000\n",
       "75%       1.000000    37.000000  46600.000000     2.000000           0.000000\n",
       "max       1.000000    65.000000  79000.000000     6.000000           5.000000"
      ]
     },
     "execution_count": 3,
     "metadata": {},
     "output_type": "execute_result"
    }
   ],
   "source": [
    "df.describe()"
   ]
  },
  {
   "cell_type": "code",
   "execution_count": 4,
   "metadata": {
    "scrolled": true
   },
   "outputs": [
    {
     "name": "stdout",
     "output_type": "stream",
     "text": [
      "<class 'pandas.core.frame.DataFrame'>\n",
      "RangeIndex: 5000 entries, 0 to 4999\n",
      "Data columns (total 5 columns):\n",
      " #   Column             Non-Null Count  Dtype  \n",
      "---  ------             --------------  -----  \n",
      " 0   Пол                5000 non-null   int64  \n",
      " 1   Возраст            5000 non-null   float64\n",
      " 2   Зарплата           5000 non-null   float64\n",
      " 3   Члены семьи        5000 non-null   int64  \n",
      " 4   Страховые выплаты  5000 non-null   int64  \n",
      "dtypes: float64(2), int64(3)\n",
      "memory usage: 195.4 KB\n"
     ]
    }
   ],
   "source": [
    "df.info()"
   ]
  },
  {
   "cell_type": "markdown",
   "metadata": {},
   "source": [
    "Проверим наличие дубликатов в данных."
   ]
  },
  {
   "cell_type": "code",
   "execution_count": 5,
   "metadata": {},
   "outputs": [
    {
     "data": {
      "text/plain": [
       "0.0306"
      ]
     },
     "execution_count": 5,
     "metadata": {},
     "output_type": "execute_result"
    }
   ],
   "source": [
    "df.duplicated().mean()"
   ]
  },
  {
   "cell_type": "markdown",
   "metadata": {},
   "source": [
    "Дубликаты присутствуют, удалим их. "
   ]
  },
  {
   "cell_type": "code",
   "execution_count": 6,
   "metadata": {},
   "outputs": [
    {
     "name": "stdout",
     "output_type": "stream",
     "text": [
      "<class 'pandas.core.frame.DataFrame'>\n",
      "Int64Index: 4847 entries, 0 to 4999\n",
      "Data columns (total 5 columns):\n",
      " #   Column             Non-Null Count  Dtype  \n",
      "---  ------             --------------  -----  \n",
      " 0   Пол                4847 non-null   int64  \n",
      " 1   Возраст            4847 non-null   float64\n",
      " 2   Зарплата           4847 non-null   float64\n",
      " 3   Члены семьи        4847 non-null   int64  \n",
      " 4   Страховые выплаты  4847 non-null   int64  \n",
      "dtypes: float64(2), int64(3)\n",
      "memory usage: 227.2 KB\n"
     ]
    }
   ],
   "source": [
    "df = df.drop_duplicates()\n",
    "df.info()"
   ]
  },
  {
   "cell_type": "markdown",
   "metadata": {},
   "source": [
    "Выведем матрицу корреляции признаков."
   ]
  },
  {
   "cell_type": "code",
   "execution_count": 7,
   "metadata": {},
   "outputs": [
    {
     "data": {
      "text/plain": [
       "Text(0.5, 1.0, 'Correlation Heatmap')"
      ]
     },
     "execution_count": 7,
     "metadata": {},
     "output_type": "execute_result"
    },
    {
     "data": {
      "image/png": "[encoded data removed]",
      "text/plain": [
       "<Figure size 1152x432 with 2 Axes>"
      ]
     },
     "metadata": {
      "needs_background": "light"
     },
     "output_type": "display_data"
    }
   ],
   "source": [
    "plt.figure(figsize=(16, 6))\n",
    "heatmap = sns.heatmap(\n",
    "    df.drop(columns=['Страховые выплаты']).corr(), vmin=-1, vmax=1, annot=True)\n",
    "heatmap.set_title('Correlation Heatmap', fontdict={'fontsize': 12}, pad=12)"
   ]
  },
  {
   "cell_type": "markdown",
   "metadata": {},
   "source": [
    "Построим матрицу корреляци в виде треугольного массива. "
   ]
  },
  {
   "cell_type": "code",
   "execution_count": 8,
   "metadata": {},
   "outputs": [
    {
     "name": "stderr",
     "output_type": "stream",
     "text": [
      "C:\\Users\\ASUS\\AppData\\Local\\Temp\\ipykernel_1164\\1081085846.py:3: DeprecationWarning: `np.bool` is a deprecated alias for the builtin `bool`. To silence this warning, use `bool` by itself. Doing this will not modify any behavior and is safe. If you specifically wanted the numpy scalar type, use `np.bool_` here.\n",
      "Deprecated in NumPy 1.20; for more details and guidance: https://numpy.org/devdocs/release/1.20.0-notes.html#deprecations\n",
      "  df.drop(columns=['Страховые выплаты']).corr(), dtype=np.bool))\n"
     ]
    },
    {
     "data": {
      "text/plain": [
       "Text(0.5, 1.0, 'Triangle Correlation Heatmap')"
      ]
     },
     "execution_count": 8,
     "metadata": {},
     "output_type": "execute_result"
    },
    {
     "data": {
      "image/png": "[encoded data removed]",
      "text/plain": [
       "<Figure size 1152x432 with 2 Axes>"
      ]
     },
     "metadata": {
      "needs_background": "light"
     },
     "output_type": "display_data"
    }
   ],
   "source": [
    "plt.figure(figsize=(16, 6))\n",
    "mask = np.triu(np.ones_like(\n",
    "    df.drop(columns=['Страховые выплаты']).corr(), dtype=np.bool))\n",
    "heatmap = sns.heatmap(df.drop(columns=['Страховые выплаты']).corr(\n",
    "), mask=mask, vmin=-1, vmax=1, annot=True, cmap='BrBG')\n",
    "heatmap.set_title('Triangle Correlation Heatmap',\n",
    "                  fontdict={'fontsize': 18}, pad=16)"
   ]
  },
  {
   "cell_type": "markdown",
   "metadata": {},
   "source": [
    "Приведем наши данные к типу Int32"
   ]
  },
  {
   "cell_type": "code",
   "execution_count": 9,
   "metadata": {},
   "outputs": [],
   "source": [
    "for col in df.columns:\n",
    "    df[col] = df[col].astype('int32')"
   ]
  },
  {
   "cell_type": "markdown",
   "metadata": {},
   "source": [
    "Сделаем визуализацию распределения признаков в виде гистограмм."
   ]
  },
  {
   "cell_type": "code",
   "execution_count": 10,
   "metadata": {
    "scrolled": true
   },
   "outputs": [
    {
     "data": {
      "image/png": "[encoded data removed]",
      "text/plain": [
       "<Figure size 432x288 with 1 Axes>"
      ]
     },
     "metadata": {
      "needs_background": "light"
     },
     "output_type": "display_data"
    },
    {
     "data": {
      "image/png": "[encoded data removed]",
      "text/plain": [
       "<Figure size 432x288 with 1 Axes>"
      ]
     },
     "metadata": {
      "needs_background": "light"
     },
     "output_type": "display_data"
    },
    {
     "data": {
      "image/png": "[encoded data removed]",
      "text/plain": [
       "<Figure size 432x288 with 1 Axes>"
      ]
     },
     "metadata": {
      "needs_background": "light"
     },
     "output_type": "display_data"
    },
    {
     "data": {
      "image/png": "[encoded data removed]",
      "text/plain": [
       "<Figure size 432x288 with 1 Axes>"
      ]
     },
     "metadata": {
      "needs_background": "light"
     },
     "output_type": "display_data"
    },
    {
     "data": {
      "image/png": "[encoded data removed]",
      "text/plain": [
       "<Figure size 432x288 with 1 Axes>"
      ]
     },
     "metadata": {
      "needs_background": "light"
     },
     "output_type": "display_data"
    }
   ],
   "source": [
    "for col in df.columns:\n",
    "    plt.title(col)\n",
    "    plt.show(df[col].hist())"
   ]
  },
  {
   "cell_type": "markdown",
   "metadata": {},
   "source": [
    "### Вывод \n",
    "\n",
    "Пропусков нет, данные правдивые, названия столбцов менять не будем. \n",
    "\n",
    "Дубликаты удалены. Мультиколлинеарности между признаками не выявлено."
   ]
  },
  {
   "cell_type": "markdown",
   "metadata": {},
   "source": [
    "## Умножение матриц"
   ]
  },
  {
   "cell_type": "markdown",
   "metadata": {},
   "source": [
    "В данном разделе ответим на вопрос: \"Изменится ли качество линейной регрессии, если признаки умножить на обратимую матрицу\""
   ]
  },
  {
   "cell_type": "markdown",
   "metadata": {},
   "source": [
    "Введем обозначения:\n",
    "\n",
    "- $X$ — матрица признаков (нулевой столбец состоит из единиц)\n",
    "\n",
    "- $y$ — вектор целевого признака\n",
    "\n",
    "- $P$ — матрица, на которую умножаются признаки\n",
    "\n",
    "- $w$ — вектор весов линейной регрессии (нулевой элемент равен сдвигу)"
   ]
  },
  {
   "cell_type": "markdown",
   "metadata": {},
   "source": [
    "Предсказания:\n",
    "\n",
    "$$\n",
    "a = Xw\n",
    "$$\n",
    "\n",
    "Задача обучения:\n",
    "\n",
    "$$\n",
    "w = \\arg\\min_w MSE(Xw, y)\n",
    "$$\n",
    "\n",
    "Формула обучения:\n",
    "\n",
    "$$\n",
    "w = (X^T X)^{-1} X^T y\n",
    "$$"
   ]
  },
  {
   "cell_type": "markdown",
   "metadata": {},
   "source": [
    "При умножении матрицы на обратную матрицу получается единичная матрица E, тогда:\n",
    "\n",
    "\n",
    "**Обоснование исходного алгоритма:** \n",
    "\n",
    "$$\n",
    "a = Xw = X (X^T X)^{-1} X^T y =(X^T X)^{-1} X^T X y =( (X^T X)^{-1})( X^T X )y  = E E y = y\n",
    "$$\n",
    "\n",
    "То есть предсказание **a** \"выдает целевой признак\" y. \n",
    "\n",
    "  \n",
    "\n",
    "Теперь посмотрим, что изменится, если матрицу фичей X домножить на рандомнуб обратимую матрицу P.\n",
    "\n",
    " \n",
    "\n",
    "**Обоснование алгоритма после умножения на матрицу P:**\n",
    "\n",
    "$$\n",
    "    a = XPw =  XP (XP^T XP)^{-1} XP^T y =(XP^T XP)^{-1} XP^T XP y =( (XP^T XP)^{-1})( XP^T XP )y  = E E y = y\n",
    "$$"
   ]
  },
  {
   "cell_type": "markdown",
   "metadata": {},
   "source": [
    "**Ответ:** нет, ничего не изменится. "
   ]
  },
  {
   "cell_type": "markdown",
   "metadata": {},
   "source": [
    "### Вывод\n",
    "\n",
    "Таким образом, видно, что при умножении признаков на обратимую матрицу P, ничего не меняется, так как в итоге после преобразований и в том и в другом случае получаем единичные матрицы, умноженные на целевой признак. \n"
   ]
  },
  {
   "cell_type": "markdown",
   "metadata": {},
   "source": [
    "## Алгоритм преобразования"
   ]
  },
  {
   "cell_type": "markdown",
   "metadata": {},
   "source": [
    "**Алгоритм для исходных данных**\n",
    "1. Разделим выборку на фичи и целевой признак\n",
    "2. Выделим обучающую и тестовую выборки\n",
    "3. Обучим модель Линейной регрессии на исходных данных \n",
    "4. Посчитаем r2_score на исходных данных \n",
    "\n",
    "\n",
    "**Алгоритм для преобразованных данных**\n",
    "1. Разделим выборку на фичи и целевой признак\n",
    "2. Сгенерируем матрицу P\n",
    "3. Домножим фичи на матрицу P\n",
    "4. Выделим обучающую и тестовую выборки\n",
    "5. Обучим модель Линейной регрессии на шифрованных данных\n",
    "6. Посчитаем r2_score на шифрованных данных\n",
    "7. Сравним r2_score на исходных и на шифрованных данных"
   ]
  },
  {
   "cell_type": "markdown",
   "metadata": {},
   "source": [
    "### Вывод\n",
    "\n",
    "**Обоснование**\n",
    "\n",
    "При помощи такого элементарного шифрования можно скрыть исходную открытую информацию о клиентах страховой компании, при этом качество модели не изменяется, в чем мы убедимся в следующем разделе проекта. "
   ]
  },
  {
   "cell_type": "markdown",
   "metadata": {},
   "source": [
    "## Проверка алгоритма"
   ]
  },
  {
   "cell_type": "markdown",
   "metadata": {},
   "source": [
    "Напишем общии функции для разделения на фичи и целевой признак, а также  для разделения на обучающую и валидационую выборки."
   ]
  },
  {
   "cell_type": "code",
   "execution_count": 11,
   "metadata": {},
   "outputs": [],
   "source": [
    "def split(df, target):\n",
    "    features = df.drop([target], axis=1)\n",
    "    target = df[target]\n",
    "    features_train, features_valid, target_train, target_valid = train_test_split(\n",
    "        features, target, train_size=0.75, random_state=12345)\n",
    "\n",
    "    return features_train, features_valid, target_train, target_valid"
   ]
  },
  {
   "cell_type": "code",
   "execution_count": 12,
   "metadata": {},
   "outputs": [],
   "source": [
    "def liner_reg(features_train, features_valid, target_train, target_valid, text):\n",
    "    model = LinearRegression()\n",
    "    model.fit(features_train, target_train)\n",
    "    predictions = model.predict(features_valid)\n",
    "    return (print(f'Оценка для модели на {text} данных: {r2_score(target_valid, predictions).round(3)}'))"
   ]
  },
  {
   "cell_type": "markdown",
   "metadata": {},
   "source": [
    "### R2 на исходных данных"
   ]
  },
  {
   "cell_type": "code",
   "execution_count": 13,
   "metadata": {
    "scrolled": true
   },
   "outputs": [
    {
     "data": {
      "text/plain": [
       "((3635, 4), (1212, 4), (3635,), (1212,))"
      ]
     },
     "execution_count": 13,
     "metadata": {},
     "output_type": "execute_result"
    }
   ],
   "source": [
    "features_train, features_valid, target_train, target_valid = split(\n",
    "    df, 'Страховые выплаты')\n",
    "features_train.shape, features_valid.shape, target_train.shape, target_valid.shape"
   ]
  },
  {
   "cell_type": "code",
   "execution_count": 14,
   "metadata": {},
   "outputs": [
    {
     "name": "stdout",
     "output_type": "stream",
     "text": [
      "Оценка для модели на исходных данных: 0.423\n"
     ]
    }
   ],
   "source": [
    "liner_reg(features_train, features_valid,\n",
    "          target_train, target_valid, 'исходных')"
   ]
  },
  {
   "cell_type": "markdown",
   "metadata": {},
   "source": [
    "### R2 на шифрованных данных"
   ]
  },
  {
   "cell_type": "markdown",
   "metadata": {},
   "source": [
    "Создадим случайную матрицу P размером 4 на 4, так как у нас 4 признака. В противном случае операцию скалярного умножения произвести мы не сможем. "
   ]
  },
  {
   "cell_type": "code",
   "execution_count": 15,
   "metadata": {},
   "outputs": [],
   "source": [
    "def rnd_matrix(n):\n",
    "    random_matrix = np.random.normal(size=(n, n))\n",
    "    try:\n",
    "        # выполняется операция создания обратной матрицы\n",
    "        np.linalg.inv(random_matrix)\n",
    "    except LinAlgError:  # если возникает ошибка, т.е. обратной матрицы не существует, выполняется еще одна попытка\n",
    "        rnd_matrix(n)\n",
    "    return random_matrix"
   ]
  },
  {
   "cell_type": "code",
   "execution_count": 16,
   "metadata": {},
   "outputs": [
    {
     "data": {
      "text/plain": [
       "array([[-0.69837526, -0.10041794,  2.33795573, -0.18925329],\n",
       "       [-0.5535926 , -0.67978593, -0.30690584, -0.70489205],\n",
       "       [ 1.16698785, -0.45163829,  0.17075243,  0.31283358],\n",
       "       [ 0.08536706,  0.55859377,  1.6535067 , -2.12680103]])"
      ]
     },
     "execution_count": 16,
     "metadata": {},
     "output_type": "execute_result"
    }
   ],
   "source": [
    "P = rnd_matrix(4)\n",
    "P"
   ]
  },
  {
   "cell_type": "raw",
   "metadata": {},
   "source": [
    "P = np.random.normal(size = (4,4))\n",
    "P"
   ]
  },
  {
   "cell_type": "code",
   "execution_count": 17,
   "metadata": {},
   "outputs": [],
   "source": [
    "features = df.drop(['Страховые выплаты'], axis=1)\n",
    "target = df['Страховые выплаты']\n",
    "features = features @ P\n",
    "features_train, features_valid, target_train, target_valid = train_test_split(\n",
    "    features, target, train_size=0.75, random_state=12345)"
   ]
  },
  {
   "cell_type": "markdown",
   "metadata": {},
   "source": [
    "Посмотрим, что получилось"
   ]
  },
  {
   "cell_type": "code",
   "execution_count": 18,
   "metadata": {
    "scrolled": true
   },
   "outputs": [
    {
     "data": {
      "text/html": [
       "<div>\n",
       "<style scoped>\n",
       "    .dataframe tbody tr th:only-of-type {\n",
       "        vertical-align: middle;\n",
       "    }\n",
       "\n",
       "    .dataframe tbody tr th {\n",
       "        vertical-align: top;\n",
       "    }\n",
       "\n",
       "    .dataframe thead th {\n",
       "        text-align: right;\n",
       "    }\n",
       "</style>\n",
       "<table border=\"1\" class=\"dataframe\">\n",
       "  <thead>\n",
       "    <tr style=\"text-align: right;\">\n",
       "      <th></th>\n",
       "      <th>0</th>\n",
       "      <th>1</th>\n",
       "      <th>2</th>\n",
       "      <th>3</th>\n",
       "    </tr>\n",
       "  </thead>\n",
       "  <tbody>\n",
       "    <tr>\n",
       "      <th>4599</th>\n",
       "      <td>63585.507753</td>\n",
       "      <td>-24632.203561</td>\n",
       "      <td>9300.721256</td>\n",
       "      <td>17025.439362</td>\n",
       "    </tr>\n",
       "    <tr>\n",
       "      <th>3882</th>\n",
       "      <td>59144.634269</td>\n",
       "      <td>-22923.434934</td>\n",
       "      <td>8649.477401</td>\n",
       "      <td>15831.560397</td>\n",
       "    </tr>\n",
       "    <tr>\n",
       "      <th>4705</th>\n",
       "      <td>32662.458835</td>\n",
       "      <td>-12661.628356</td>\n",
       "      <td>4775.355895</td>\n",
       "      <td>8740.295943</td>\n",
       "    </tr>\n",
       "    <tr>\n",
       "      <th>1400</th>\n",
       "      <td>45253.109576</td>\n",
       "      <td>-17555.515546</td>\n",
       "      <td>6610.769832</td>\n",
       "      <td>12104.812857</td>\n",
       "    </tr>\n",
       "    <tr>\n",
       "      <th>728</th>\n",
       "      <td>37905.046661</td>\n",
       "      <td>-14704.877231</td>\n",
       "      <td>5538.831350</td>\n",
       "      <td>10136.768766</td>\n",
       "    </tr>\n",
       "    <tr>\n",
       "      <th>...</th>\n",
       "      <td>...</td>\n",
       "      <td>...</td>\n",
       "      <td>...</td>\n",
       "      <td>...</td>\n",
       "    </tr>\n",
       "    <tr>\n",
       "      <th>3592</th>\n",
       "      <td>32895.711621</td>\n",
       "      <td>-12751.376646</td>\n",
       "      <td>4812.151243</td>\n",
       "      <td>8803.378297</td>\n",
       "    </tr>\n",
       "    <tr>\n",
       "      <th>3586</th>\n",
       "      <td>39310.968002</td>\n",
       "      <td>-15240.045318</td>\n",
       "      <td>5746.803328</td>\n",
       "      <td>10519.217979</td>\n",
       "    </tr>\n",
       "    <tr>\n",
       "      <th>2211</th>\n",
       "      <td>33714.263891</td>\n",
       "      <td>-13065.484090</td>\n",
       "      <td>4932.598664</td>\n",
       "      <td>9024.476477</td>\n",
       "    </tr>\n",
       "    <tr>\n",
       "      <th>3653</th>\n",
       "      <td>45260.246864</td>\n",
       "      <td>-17545.540367</td>\n",
       "      <td>6619.057976</td>\n",
       "      <td>12112.365292</td>\n",
       "    </tr>\n",
       "    <tr>\n",
       "      <th>4722</th>\n",
       "      <td>55175.998557</td>\n",
       "      <td>-21389.245098</td>\n",
       "      <td>8067.313962</td>\n",
       "      <td>14763.874011</td>\n",
       "    </tr>\n",
       "  </tbody>\n",
       "</table>\n",
       "<p>3635 rows × 4 columns</p>\n",
       "</div>"
      ],
      "text/plain": [
       "                 0             1            2             3\n",
       "4599  63585.507753 -24632.203561  9300.721256  17025.439362\n",
       "3882  59144.634269 -22923.434934  8649.477401  15831.560397\n",
       "4705  32662.458835 -12661.628356  4775.355895   8740.295943\n",
       "1400  45253.109576 -17555.515546  6610.769832  12104.812857\n",
       "728   37905.046661 -14704.877231  5538.831350  10136.768766\n",
       "...            ...           ...          ...           ...\n",
       "3592  32895.711621 -12751.376646  4812.151243   8803.378297\n",
       "3586  39310.968002 -15240.045318  5746.803328  10519.217979\n",
       "2211  33714.263891 -13065.484090  4932.598664   9024.476477\n",
       "3653  45260.246864 -17545.540367  6619.057976  12112.365292\n",
       "4722  55175.998557 -21389.245098  8067.313962  14763.874011\n",
       "\n",
       "[3635 rows x 4 columns]"
      ]
     },
     "metadata": {},
     "output_type": "display_data"
    },
    {
     "data": {
      "text/html": [
       "<div>\n",
       "<style scoped>\n",
       "    .dataframe tbody tr th:only-of-type {\n",
       "        vertical-align: middle;\n",
       "    }\n",
       "\n",
       "    .dataframe tbody tr th {\n",
       "        vertical-align: top;\n",
       "    }\n",
       "\n",
       "    .dataframe thead th {\n",
       "        text-align: right;\n",
       "    }\n",
       "</style>\n",
       "<table border=\"1\" class=\"dataframe\">\n",
       "  <thead>\n",
       "    <tr style=\"text-align: right;\">\n",
       "      <th></th>\n",
       "      <th>0</th>\n",
       "      <th>1</th>\n",
       "      <th>2</th>\n",
       "      <th>3</th>\n",
       "    </tr>\n",
       "  </thead>\n",
       "  <tbody>\n",
       "    <tr>\n",
       "      <th>1335</th>\n",
       "      <td>55068.395330</td>\n",
       "      <td>-21333.062728</td>\n",
       "      <td>8054.793966</td>\n",
       "      <td>14749.343059</td>\n",
       "    </tr>\n",
       "    <tr>\n",
       "      <th>3875</th>\n",
       "      <td>76886.085718</td>\n",
       "      <td>-29784.816803</td>\n",
       "      <td>11245.102313</td>\n",
       "      <td>20592.986919</td>\n",
       "    </tr>\n",
       "    <tr>\n",
       "      <th>166</th>\n",
       "      <td>39542.091785</td>\n",
       "      <td>-15331.954158</td>\n",
       "      <td>5784.024560</td>\n",
       "      <td>10577.353964</td>\n",
       "    </tr>\n",
       "    <tr>\n",
       "      <th>3003</th>\n",
       "      <td>22501.446052</td>\n",
       "      <td>-8742.013439</td>\n",
       "      <td>3286.859645</td>\n",
       "      <td>6005.943642</td>\n",
       "    </tr>\n",
       "    <tr>\n",
       "      <th>424</th>\n",
       "      <td>32066.871242</td>\n",
       "      <td>-12450.205909</td>\n",
       "      <td>4684.881256</td>\n",
       "      <td>8566.244728</td>\n",
       "    </tr>\n",
       "    <tr>\n",
       "      <th>...</th>\n",
       "      <td>...</td>\n",
       "      <td>...</td>\n",
       "      <td>...</td>\n",
       "      <td>...</td>\n",
       "    </tr>\n",
       "    <tr>\n",
       "      <th>1589</th>\n",
       "      <td>26820.731711</td>\n",
       "      <td>-10411.014975</td>\n",
       "      <td>3920.555720</td>\n",
       "      <td>7168.184993</td>\n",
       "    </tr>\n",
       "    <tr>\n",
       "      <th>32</th>\n",
       "      <td>59499.244731</td>\n",
       "      <td>-23052.929540</td>\n",
       "      <td>8704.811884</td>\n",
       "      <td>15928.922805</td>\n",
       "    </tr>\n",
       "    <tr>\n",
       "      <th>360</th>\n",
       "      <td>39079.257162</td>\n",
       "      <td>-15145.981747</td>\n",
       "      <td>5719.525434</td>\n",
       "      <td>10455.027976</td>\n",
       "    </tr>\n",
       "    <tr>\n",
       "      <th>2862</th>\n",
       "      <td>38613.457890</td>\n",
       "      <td>-14966.222009</td>\n",
       "      <td>5644.232891</td>\n",
       "      <td>10337.169094</td>\n",
       "    </tr>\n",
       "    <tr>\n",
       "      <th>646</th>\n",
       "      <td>38248.355120</td>\n",
       "      <td>-14847.946781</td>\n",
       "      <td>5589.019072</td>\n",
       "      <td>10222.675774</td>\n",
       "    </tr>\n",
       "  </tbody>\n",
       "</table>\n",
       "<p>1212 rows × 4 columns</p>\n",
       "</div>"
      ],
      "text/plain": [
       "                 0             1             2             3\n",
       "1335  55068.395330 -21333.062728   8054.793966  14749.343059\n",
       "3875  76886.085718 -29784.816803  11245.102313  20592.986919\n",
       "166   39542.091785 -15331.954158   5784.024560  10577.353964\n",
       "3003  22501.446052  -8742.013439   3286.859645   6005.943642\n",
       "424   32066.871242 -12450.205909   4684.881256   8566.244728\n",
       "...            ...           ...           ...           ...\n",
       "1589  26820.731711 -10411.014975   3920.555720   7168.184993\n",
       "32    59499.244731 -23052.929540   8704.811884  15928.922805\n",
       "360   39079.257162 -15145.981747   5719.525434  10455.027976\n",
       "2862  38613.457890 -14966.222009   5644.232891  10337.169094\n",
       "646   38248.355120 -14847.946781   5589.019072  10222.675774\n",
       "\n",
       "[1212 rows x 4 columns]"
      ]
     },
     "metadata": {},
     "output_type": "display_data"
    },
    {
     "data": {
      "text/plain": [
       "4599    0\n",
       "3882    0\n",
       "4705    0\n",
       "1400    1\n",
       "728     0\n",
       "       ..\n",
       "3592    0\n",
       "3586    0\n",
       "2211    0\n",
       "3653    0\n",
       "4722    0\n",
       "Name: Страховые выплаты, Length: 3635, dtype: int32"
      ]
     },
     "metadata": {},
     "output_type": "display_data"
    },
    {
     "data": {
      "text/plain": [
       "1335    0\n",
       "3875    0\n",
       "166     0\n",
       "3003    0\n",
       "424     1\n",
       "       ..\n",
       "1589    0\n",
       "32      0\n",
       "360     0\n",
       "2862    0\n",
       "646     2\n",
       "Name: Страховые выплаты, Length: 1212, dtype: int32"
      ]
     },
     "metadata": {},
     "output_type": "display_data"
    }
   ],
   "source": [
    "display(features_train, features_valid, target_train, target_valid)"
   ]
  },
  {
   "cell_type": "code",
   "execution_count": 19,
   "metadata": {},
   "outputs": [
    {
     "name": "stdout",
     "output_type": "stream",
     "text": [
      "Оценка для модели на шифрованных данных: 0.423\n"
     ]
    }
   ],
   "source": [
    "liner_reg(features_train, features_valid,\n",
    "          target_train, target_valid, 'шифрованных')"
   ]
  },
  {
   "cell_type": "markdown",
   "metadata": {},
   "source": [
    "### Вывод \n",
    "\n",
    "Можно видеть, что теоретическое обоснование, приведенное в раздлах 2 и 3 проекта подтвердилось: после шифрования данных качество модели не изменилось, r2_score не изменился, однако мы имеем значительное преимущество - сокрытие исходных персональных данных от злоумышленника. \n",
    "\n",
    "По ячейке №11 с трудом можно определить значение признаков и их содержание. Но суть модели остается такой же: независимо от \"шифрования\" мы имеем взаимно однозначное соответствие исходных данных и предсказанных. Что и требовалось доказать. "
   ]
  }
 ],
 "metadata": {
  "ExecuteTimeLog": [
   {
    "duration": 68,
    "start_time": "2022-04-23T14:06:48.994Z"
   },
   {
    "duration": 1523,
    "start_time": "2022-04-23T14:06:50.930Z"
   },
   {
    "duration": 92,
    "start_time": "2022-04-23T14:06:57.904Z"
   },
   {
    "duration": 33,
    "start_time": "2022-04-23T14:07:09.210Z"
   },
   {
    "duration": 16,
    "start_time": "2022-04-23T14:07:18.179Z"
   },
   {
    "duration": 194,
    "start_time": "2022-04-23T14:18:20.354Z"
   },
   {
    "duration": 4,
    "start_time": "2022-04-23T14:31:38.997Z"
   },
   {
    "duration": 89,
    "start_time": "2022-04-23T14:38:10.908Z"
   },
   {
    "duration": 6,
    "start_time": "2022-04-23T14:38:17.638Z"
   },
   {
    "duration": 4,
    "start_time": "2022-04-23T14:38:19.611Z"
   },
   {
    "duration": 21,
    "start_time": "2022-04-23T14:38:21.491Z"
   },
   {
    "duration": 9,
    "start_time": "2022-04-23T14:40:08.439Z"
   },
   {
    "duration": 11,
    "start_time": "2022-04-23T14:42:51.544Z"
   },
   {
    "duration": 5,
    "start_time": "2022-04-23T14:43:18.355Z"
   },
   {
    "duration": 12,
    "start_time": "2022-04-23T14:43:21.041Z"
   },
   {
    "duration": 6,
    "start_time": "2022-04-23T14:43:28.965Z"
   },
   {
    "duration": 9,
    "start_time": "2022-04-23T14:43:30.753Z"
   },
   {
    "duration": 11,
    "start_time": "2022-04-23T14:43:32.644Z"
   },
   {
    "duration": 23,
    "start_time": "2022-04-23T14:43:48.554Z"
   },
   {
    "duration": 10,
    "start_time": "2022-04-23T14:47:51.798Z"
   },
   {
    "duration": 4,
    "start_time": "2022-04-23T14:47:57.640Z"
   },
   {
    "duration": 5,
    "start_time": "2022-04-23T14:48:01.269Z"
   },
   {
    "duration": 6,
    "start_time": "2022-04-23T14:49:37.266Z"
   },
   {
    "duration": 9,
    "start_time": "2022-04-23T14:49:39.310Z"
   },
   {
    "duration": 15,
    "start_time": "2022-04-23T14:49:47.035Z"
   },
   {
    "duration": 16,
    "start_time": "2022-04-23T14:49:56.131Z"
   },
   {
    "duration": 12,
    "start_time": "2022-04-23T14:50:46.523Z"
   },
   {
    "duration": 1548,
    "start_time": "2022-04-23T14:55:39.472Z"
   },
   {
    "duration": 50,
    "start_time": "2022-04-23T14:55:41.023Z"
   },
   {
    "duration": 38,
    "start_time": "2022-04-23T14:55:41.075Z"
   },
   {
    "duration": 15,
    "start_time": "2022-04-23T14:55:41.116Z"
   },
   {
    "duration": 6,
    "start_time": "2022-04-23T14:55:41.133Z"
   },
   {
    "duration": 9,
    "start_time": "2022-04-23T14:55:41.141Z"
   },
   {
    "duration": 60,
    "start_time": "2022-04-23T14:55:41.151Z"
   },
   {
    "duration": 11,
    "start_time": "2022-04-23T14:55:41.213Z"
   },
   {
    "duration": 6,
    "start_time": "2022-04-23T14:55:41.226Z"
   },
   {
    "duration": 8,
    "start_time": "2022-04-23T14:55:41.235Z"
   },
   {
    "duration": 57,
    "start_time": "2022-04-23T14:55:41.245Z"
   },
   {
    "duration": 12,
    "start_time": "2022-04-23T14:55:41.304Z"
   },
   {
    "duration": 1677,
    "start_time": "2022-04-24T03:35:05.885Z"
   },
   {
    "duration": 29,
    "start_time": "2022-04-24T03:35:07.563Z"
   },
   {
    "duration": 19,
    "start_time": "2022-04-24T03:35:07.594Z"
   },
   {
    "duration": 9,
    "start_time": "2022-04-24T03:35:07.614Z"
   },
   {
    "duration": 5,
    "start_time": "2022-04-24T03:35:07.624Z"
   },
   {
    "duration": 7,
    "start_time": "2022-04-24T03:35:07.630Z"
   },
   {
    "duration": 15,
    "start_time": "2022-04-24T03:35:07.638Z"
   },
   {
    "duration": 7,
    "start_time": "2022-04-24T03:35:07.655Z"
   },
   {
    "duration": 4,
    "start_time": "2022-04-24T03:35:07.663Z"
   },
   {
    "duration": 33,
    "start_time": "2022-04-24T03:35:07.669Z"
   },
   {
    "duration": 10,
    "start_time": "2022-04-24T03:35:07.703Z"
   },
   {
    "duration": 10,
    "start_time": "2022-04-24T03:35:07.715Z"
   },
   {
    "duration": 10,
    "start_time": "2022-04-24T03:47:58.601Z"
   },
   {
    "duration": 7,
    "start_time": "2022-04-24T03:48:10.474Z"
   },
   {
    "duration": 7,
    "start_time": "2022-04-24T03:48:22.402Z"
   },
   {
    "duration": 8,
    "start_time": "2022-04-24T03:48:34.218Z"
   },
   {
    "duration": 13,
    "start_time": "2022-04-24T03:48:43.954Z"
   },
   {
    "duration": 1096,
    "start_time": "2022-04-24T05:41:08.808Z"
   },
   {
    "duration": 29,
    "start_time": "2022-04-24T05:41:09.905Z"
   },
   {
    "duration": 18,
    "start_time": "2022-04-24T05:41:09.935Z"
   },
   {
    "duration": 8,
    "start_time": "2022-04-24T05:41:09.955Z"
   },
   {
    "duration": 7,
    "start_time": "2022-04-24T05:41:13.782Z"
   },
   {
    "duration": 9,
    "start_time": "2022-04-24T05:41:28.733Z"
   },
   {
    "duration": 5,
    "start_time": "2022-04-24T05:41:42.124Z"
   },
   {
    "duration": 6,
    "start_time": "2022-04-24T05:47:00.192Z"
   },
   {
    "duration": 7,
    "start_time": "2022-04-24T05:47:06.540Z"
   },
   {
    "duration": 852,
    "start_time": "2022-04-24T05:47:16.350Z"
   },
   {
    "duration": 7,
    "start_time": "2022-04-24T05:47:31.517Z"
   },
   {
    "duration": 7,
    "start_time": "2022-04-24T05:48:04.411Z"
   },
   {
    "duration": 7,
    "start_time": "2022-04-24T05:51:11.829Z"
   },
   {
    "duration": 7,
    "start_time": "2022-04-24T05:51:23.057Z"
   },
   {
    "duration": 7,
    "start_time": "2022-04-24T05:51:28.074Z"
   },
   {
    "duration": 9,
    "start_time": "2022-04-24T05:51:36.754Z"
   },
   {
    "duration": 7,
    "start_time": "2022-04-24T05:51:43.176Z"
   },
   {
    "duration": 7,
    "start_time": "2022-04-24T05:51:50.802Z"
   },
   {
    "duration": 6,
    "start_time": "2022-04-24T05:51:59.885Z"
   },
   {
    "duration": 6,
    "start_time": "2022-04-24T05:51:59.954Z"
   },
   {
    "duration": 6,
    "start_time": "2022-04-24T05:52:16.535Z"
   },
   {
    "duration": 6,
    "start_time": "2022-04-24T05:52:20.649Z"
   },
   {
    "duration": 5,
    "start_time": "2022-04-24T05:52:28.397Z"
   },
   {
    "duration": 5,
    "start_time": "2022-04-24T05:52:47.563Z"
   },
   {
    "duration": 12,
    "start_time": "2022-04-24T05:52:55.374Z"
   },
   {
    "duration": 9,
    "start_time": "2022-04-24T05:54:20.421Z"
   },
   {
    "duration": 510,
    "start_time": "2022-04-24T05:54:45.780Z"
   },
   {
    "duration": 27,
    "start_time": "2022-04-24T05:54:50.834Z"
   },
   {
    "duration": 399,
    "start_time": "2022-04-24T05:54:56.458Z"
   },
   {
    "duration": 342,
    "start_time": "2022-04-24T05:55:49.688Z"
   },
   {
    "duration": 237,
    "start_time": "2022-04-24T06:01:29.888Z"
   },
   {
    "duration": 161,
    "start_time": "2022-04-24T06:02:04.672Z"
   },
   {
    "duration": 165,
    "start_time": "2022-04-24T06:02:13.579Z"
   },
   {
    "duration": 161,
    "start_time": "2022-04-24T06:02:46.228Z"
   },
   {
    "duration": 163,
    "start_time": "2022-04-24T06:02:54.874Z"
   },
   {
    "duration": 2935,
    "start_time": "2022-04-24T06:03:52.507Z"
   },
   {
    "duration": 171,
    "start_time": "2022-04-24T06:04:12.909Z"
   },
   {
    "duration": 269,
    "start_time": "2022-04-24T06:04:30.644Z"
   },
   {
    "duration": 191,
    "start_time": "2022-04-24T06:05:56.870Z"
   },
   {
    "duration": 167,
    "start_time": "2022-04-24T06:08:25.111Z"
   },
   {
    "duration": 102,
    "start_time": "2022-04-24T06:08:48.715Z"
   },
   {
    "duration": 107,
    "start_time": "2022-04-24T06:09:10.499Z"
   },
   {
    "duration": 117,
    "start_time": "2022-04-24T06:09:35.758Z"
   },
   {
    "duration": 124,
    "start_time": "2022-04-24T06:09:58.201Z"
   },
   {
    "duration": 190,
    "start_time": "2022-04-24T06:13:57.966Z"
   },
   {
    "duration": 8,
    "start_time": "2022-04-24T06:14:44.864Z"
   },
   {
    "duration": 3,
    "start_time": "2022-04-24T06:14:51.338Z"
   },
   {
    "duration": 3,
    "start_time": "2022-04-24T06:15:02.851Z"
   },
   {
    "duration": 3,
    "start_time": "2022-04-24T06:15:05.060Z"
   },
   {
    "duration": 8,
    "start_time": "2022-04-24T06:15:07.592Z"
   },
   {
    "duration": 23,
    "start_time": "2022-04-24T06:21:46.986Z"
   },
   {
    "duration": 22,
    "start_time": "2022-04-24T06:22:27.495Z"
   },
   {
    "duration": 4,
    "start_time": "2022-04-24T06:25:13.905Z"
   },
   {
    "duration": 4,
    "start_time": "2022-04-24T06:25:29.484Z"
   },
   {
    "duration": 6,
    "start_time": "2022-04-24T06:25:51.031Z"
   },
   {
    "duration": 6,
    "start_time": "2022-04-24T06:25:53.532Z"
   },
   {
    "duration": 1434,
    "start_time": "2022-04-24T06:26:05.113Z"
   },
   {
    "duration": 38,
    "start_time": "2022-04-24T06:26:06.549Z"
   },
   {
    "duration": 20,
    "start_time": "2022-04-24T06:26:06.588Z"
   },
   {
    "duration": 9,
    "start_time": "2022-04-24T06:26:06.610Z"
   },
   {
    "duration": 13,
    "start_time": "2022-04-24T06:26:06.620Z"
   },
   {
    "duration": 10,
    "start_time": "2022-04-24T06:26:06.635Z"
   },
   {
    "duration": 367,
    "start_time": "2022-04-24T06:26:06.646Z"
   },
   {
    "duration": 294,
    "start_time": "2022-04-24T06:26:07.015Z"
   },
   {
    "duration": 292,
    "start_time": "2022-04-24T06:26:07.310Z"
   },
   {
    "duration": 127,
    "start_time": "2022-04-24T06:26:07.605Z"
   },
   {
    "duration": 186,
    "start_time": "2022-04-24T06:26:07.734Z"
   },
   {
    "duration": 139,
    "start_time": "2022-04-24T06:26:07.922Z"
   },
   {
    "duration": 131,
    "start_time": "2022-04-24T06:26:08.063Z"
   },
   {
    "duration": 3,
    "start_time": "2022-04-24T06:26:08.199Z"
   },
   {
    "duration": 6,
    "start_time": "2022-04-24T06:26:08.204Z"
   },
   {
    "duration": 13,
    "start_time": "2022-04-24T06:26:08.211Z"
   },
   {
    "duration": 7,
    "start_time": "2022-04-24T06:26:08.226Z"
   },
   {
    "duration": 3,
    "start_time": "2022-04-24T06:26:08.234Z"
   },
   {
    "duration": 9,
    "start_time": "2022-04-24T06:26:08.238Z"
   },
   {
    "duration": 6,
    "start_time": "2022-04-24T06:26:08.300Z"
   },
   {
    "duration": 99,
    "start_time": "2022-04-24T06:26:08.308Z"
   },
   {
    "duration": 8,
    "start_time": "2022-04-24T06:26:08.409Z"
   },
   {
    "duration": 13,
    "start_time": "2022-04-24T06:31:37.168Z"
   },
   {
    "duration": 128,
    "start_time": "2022-04-24T06:32:13.087Z"
   },
   {
    "duration": 131,
    "start_time": "2022-04-24T06:32:21.508Z"
   },
   {
    "duration": 122,
    "start_time": "2022-04-24T06:32:28.067Z"
   },
   {
    "duration": 478,
    "start_time": "2022-04-24T06:51:43.861Z"
   },
   {
    "duration": 1487,
    "start_time": "2022-04-24T06:51:53.220Z"
   },
   {
    "duration": 27,
    "start_time": "2022-04-24T06:51:54.709Z"
   },
   {
    "duration": 20,
    "start_time": "2022-04-24T06:51:54.737Z"
   },
   {
    "duration": 9,
    "start_time": "2022-04-24T06:51:54.759Z"
   },
   {
    "duration": 5,
    "start_time": "2022-04-24T06:51:54.770Z"
   },
   {
    "duration": 25,
    "start_time": "2022-04-24T06:51:54.776Z"
   },
   {
    "duration": 323,
    "start_time": "2022-04-24T06:51:54.802Z"
   },
   {
    "duration": 287,
    "start_time": "2022-04-24T06:51:55.126Z"
   },
   {
    "duration": 178,
    "start_time": "2022-04-24T06:51:55.415Z"
   },
   {
    "duration": 112,
    "start_time": "2022-04-24T06:51:55.599Z"
   },
   {
    "duration": 208,
    "start_time": "2022-04-24T06:51:55.712Z"
   },
   {
    "duration": 133,
    "start_time": "2022-04-24T06:51:55.922Z"
   },
   {
    "duration": 127,
    "start_time": "2022-04-24T06:51:56.057Z"
   },
   {
    "duration": 14,
    "start_time": "2022-04-24T06:51:56.186Z"
   },
   {
    "duration": 6,
    "start_time": "2022-04-24T06:51:56.202Z"
   },
   {
    "duration": 8,
    "start_time": "2022-04-24T06:51:56.210Z"
   },
   {
    "duration": 8,
    "start_time": "2022-04-24T06:51:56.220Z"
   },
   {
    "duration": 3,
    "start_time": "2022-04-24T06:51:56.230Z"
   },
   {
    "duration": 7,
    "start_time": "2022-04-24T06:51:56.234Z"
   },
   {
    "duration": 57,
    "start_time": "2022-04-24T06:51:56.243Z"
   },
   {
    "duration": 103,
    "start_time": "2022-04-24T06:51:56.302Z"
   },
   {
    "duration": 7,
    "start_time": "2022-04-24T06:51:56.406Z"
   },
   {
    "duration": 122,
    "start_time": "2022-04-24T06:54:44.478Z"
   },
   {
    "duration": 113,
    "start_time": "2022-04-24T06:54:56.621Z"
   },
   {
    "duration": 163,
    "start_time": "2022-04-24T07:04:49.566Z"
   },
   {
    "duration": 162,
    "start_time": "2022-04-24T07:04:54.030Z"
   },
   {
    "duration": 181,
    "start_time": "2022-04-24T07:04:58.238Z"
   },
   {
    "duration": 620,
    "start_time": "2022-04-24T07:07:21.171Z"
   },
   {
    "duration": 4,
    "start_time": "2022-04-24T07:07:53.420Z"
   },
   {
    "duration": 121,
    "start_time": "2022-04-24T07:08:44.605Z"
   },
   {
    "duration": 109,
    "start_time": "2022-04-24T07:08:54.734Z"
   },
   {
    "duration": 171,
    "start_time": "2022-04-24T07:09:02.126Z"
   },
   {
    "duration": 534,
    "start_time": "2022-04-24T07:09:11.222Z"
   },
   {
    "duration": 296,
    "start_time": "2022-04-24T07:09:24.238Z"
   },
   {
    "duration": 97,
    "start_time": "2022-04-24T07:11:04.124Z"
   },
   {
    "duration": 9,
    "start_time": "2022-04-24T07:11:07.585Z"
   },
   {
    "duration": 9,
    "start_time": "2022-04-24T07:11:12.169Z"
   },
   {
    "duration": 167,
    "start_time": "2022-04-24T07:11:17.497Z"
   },
   {
    "duration": 523,
    "start_time": "2022-04-24T07:11:21.009Z"
   },
   {
    "duration": 640,
    "start_time": "2022-04-24T07:11:27.642Z"
   },
   {
    "duration": 168,
    "start_time": "2022-04-24T07:11:40.682Z"
   },
   {
    "duration": 165,
    "start_time": "2022-04-24T07:11:47.442Z"
   },
   {
    "duration": 96,
    "start_time": "2022-04-24T07:11:59.330Z"
   },
   {
    "duration": 94,
    "start_time": "2022-04-24T07:12:07.979Z"
   },
   {
    "duration": 171,
    "start_time": "2022-04-24T07:12:13.228Z"
   },
   {
    "duration": 7,
    "start_time": "2022-04-24T07:13:07.502Z"
   },
   {
    "duration": 14,
    "start_time": "2022-04-24T07:13:23.064Z"
   },
   {
    "duration": 13,
    "start_time": "2022-04-24T07:13:35.389Z"
   },
   {
    "duration": 1884,
    "start_time": "2022-04-24T18:31:34.677Z"
   },
   {
    "duration": 36,
    "start_time": "2022-04-24T18:31:36.563Z"
   },
   {
    "duration": 27,
    "start_time": "2022-04-24T18:31:36.602Z"
   },
   {
    "duration": 12,
    "start_time": "2022-04-24T18:31:36.632Z"
   },
   {
    "duration": 8,
    "start_time": "2022-04-24T18:31:36.645Z"
   },
   {
    "duration": 11,
    "start_time": "2022-04-24T18:31:36.654Z"
   },
   {
    "duration": 432,
    "start_time": "2022-04-24T18:31:36.667Z"
   },
   {
    "duration": 355,
    "start_time": "2022-04-24T18:31:37.101Z"
   },
   {
    "duration": 257,
    "start_time": "2022-04-24T18:31:37.458Z"
   },
   {
    "duration": 1910,
    "start_time": "2022-04-24T18:31:37.720Z"
   },
   {
    "duration": 186,
    "start_time": "2022-04-24T18:31:39.632Z"
   },
   {
    "duration": 140,
    "start_time": "2022-04-24T18:31:39.820Z"
   },
   {
    "duration": 170,
    "start_time": "2022-04-24T18:31:39.962Z"
   },
   {
    "duration": 158,
    "start_time": "2022-04-24T18:31:40.135Z"
   },
   {
    "duration": 13,
    "start_time": "2022-04-24T18:31:40.295Z"
   },
   {
    "duration": 26,
    "start_time": "2022-04-24T18:31:40.311Z"
   },
   {
    "duration": 14,
    "start_time": "2022-04-24T18:31:40.339Z"
   },
   {
    "duration": 11,
    "start_time": "2022-04-24T18:31:40.354Z"
   },
   {
    "duration": 119,
    "start_time": "2022-04-24T18:31:40.396Z"
   },
   {
    "duration": 8,
    "start_time": "2022-04-24T18:31:40.520Z"
   },
   {
    "duration": 11,
    "start_time": "2022-04-24T18:31:40.530Z"
   },
   {
    "duration": 175,
    "start_time": "2022-04-24T18:31:40.543Z"
   },
   {
    "duration": 8,
    "start_time": "2022-04-24T18:31:40.720Z"
   }
  ],
  "kernelspec": {
   "display_name": "Python 3 (ipykernel)",
   "language": "python",
   "name": "python3"
  },
  "language_info": {
   "codemirror_mode": {
    "name": "ipython",
    "version": 3
   },
   "file_extension": ".py",
   "mimetype": "text/x-python",
   "name": "python",
   "nbconvert_exporter": "python",
   "pygments_lexer": "ipython3",
   "version": "3.9.12"
  },
  "toc": {
   "base_numbering": 1,
   "nav_menu": {},
   "number_sections": true,
   "sideBar": true,
   "skip_h1_title": true,
   "title_cell": "Содержание",
   "title_sidebar": "Contents",
   "toc_cell": true,
   "toc_position": {
    "height": "calc(100% - 180px)",
    "left": "10px",
    "top": "150px",
    "width": "267px"
   },
   "toc_section_display": true,
   "toc_window_display": true
  }
 },
 "nbformat": 4,
 "nbformat_minor": 2
}
